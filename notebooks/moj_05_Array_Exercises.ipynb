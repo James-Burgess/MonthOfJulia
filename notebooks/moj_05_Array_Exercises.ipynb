{
 "cells": [
  {
   "cell_type": "markdown",
   "metadata": {},
   "source": [
    "# Multi-Dimensional Array Exercises\n",
    "## I found some exercises online to flex all my new array skillz\n",
    "\n",
    "1.    Write a method isRow which accepts a two dimensional array of doubles and an int row number as parameters and returns true if that row is present in the array and false otherwise. Return false if the array is null or empty.\n",
    "    HINT: Consider the following tests:\n",
    "\n",
    "          double[][] data = {{}, {1}, {2, 3}};\n",
    "          System.out.println(isRow(data, -1));\n",
    "          System.out.println(isRow(data, 0));\n",
    "          System.out.println(isRow(data, 1));\n",
    "          System.out.println(isRow(data, 2));\n",
    "          System.out.println(isRow(data, 3));\n",
    "          System.out.println(isRow(null, 1));\n",
    "          data[1] = null;\n",
    "          System.out.println(isRow(data, 1));   "
   ]
  },
  {
   "cell_type": "code",
   "execution_count": 50,
   "metadata": {},
   "outputs": [
    {
     "data": {
      "text/plain": [
       "isRow (generic function with 1 method)"
      ]
     },
     "execution_count": 50,
     "metadata": {},
     "output_type": "execute_result"
    }
   ],
   "source": [
    "function isRow(A, i)\n",
    "   #summary:: function returns true if index (i) is present in the array(A)\n",
    "    return(i <= ndims(A) && i > 0)\n",
    "end"
   ]
  },
  {
   "cell_type": "code",
   "execution_count": 157,
   "metadata": {},
   "outputs": [
    {
     "data": {
      "text/plain": [
       "3×3 Array{Float64,2}:\n",
       " 1.0  2.0  1.0\n",
       " 1.0  1.0  1.0\n",
       " 2.0  3.0  4.0"
      ]
     },
     "execution_count": 157,
     "metadata": {},
     "output_type": "execute_result"
    }
   ],
   "source": [
    "#test case\n",
    "a = [1 2 3]\n",
    "b = [4 5 6]\n",
    "c = [a ; b]\n",
    "\n",
    "data = [1.0 2.0 1.0; 1.0 1.0 1.0; 2.0 3.0 4.0]"
   ]
  },
  {
   "cell_type": "code",
   "execution_count": 77,
   "metadata": {},
   "outputs": [
    {
     "name": "stdout",
     "output_type": "stream",
     "text": [
      "false\n",
      "false\n",
      "true\n",
      "true\n",
      "false\n",
      "false\n"
     ]
    }
   ],
   "source": [
    "#the tests\n",
    "println(isRow(data, -1)) \n",
    "println(isRow(data, 0)) \n",
    "println(isRow(data, 1))\n",
    "println(isRow(data, 2))\n",
    "println(isRow(data, 3))\n",
    "println(isRow(data, 4))"
   ]
  },
  {
   "cell_type": "markdown",
   "metadata": {},
   "source": [
    "2. Write a method isCol which accepts a two dimensional array of doubles and an int column number as parameters and returns true if at least one of the rows has that column value and false otherwise. Return false if the array is null or empty.\n",
    "    HINT: Consider the following tests:\n",
    "\n",
    "          double[][] data = {{1}, {2, 3}};\n",
    "          System.out.println(isCol(data, -1));\n",
    "          System.out.println(isCol(data, 0));\n",
    "          System.out.println(isCol(data, 1));\n",
    "          System.out.println(isCol(data, 2));\n",
    "          System.out.println(isCol(null, 1));\n",
    "          data[0] = null;\n",
    "          System.out.println(isCol(data, 0));"
   ]
  },
  {
   "cell_type": "code",
   "execution_count": 53,
   "metadata": {},
   "outputs": [
    {
     "data": {
      "text/plain": [
       "isCol (generic function with 1 method)"
      ]
     },
     "execution_count": 53,
     "metadata": {},
     "output_type": "execute_result"
    }
   ],
   "source": [
    "function isCol(A,i)\n",
    "    #summary:: returns true if col exists\n",
    "    col = length(A)/ndims(A)\n",
    "    return(i <= col && i > 0)\n",
    "end"
   ]
  },
  {
   "cell_type": "markdown",
   "metadata": {},
   "source": [
    "3.    Write a method sumColumn which accepts a two dimensional array of doubles and an int column number as parameters and returns the sum of the elements in the given column. If the column number is not a valid column for that array or the array is null or empty, throw an ArrayIndexOutOfBoundsException passing the column number as a parameter to the constructor. \n",
    "            HINT: See # 2"
   ]
  },
  {
   "cell_type": "code",
   "execution_count": 54,
   "metadata": {},
   "outputs": [
    {
     "name": "stdout",
     "output_type": "stream",
     "text": [
      "false\n",
      "true\n",
      "true\n",
      "false\n"
     ]
    }
   ],
   "source": [
    "#the tests\n",
    "println(isCol(data, 0))\n",
    "println(isCol(data, 1))\n",
    "println(isCol(data, 2))\n",
    "println(isCol(data, 4))"
   ]
  },
  {
   "cell_type": "markdown",
   "metadata": {},
   "source": [
    "4. Write a method getHighestInRow which accepts a two dimensional array of doubles and an int row number as parameters and returns the highest value of the elements in the given row. If the row number is not a valid row for that array or the row or array are null or empty, throw an ArrayIndexOutOfBoundsException passing the row number as a parameter to the constructor. HINT: See # 2\n"
   ]
  },
  {
   "cell_type": "code",
   "execution_count": 201,
   "metadata": {},
   "outputs": [
    {
     "data": {
      "text/plain": [
       "getHighestInRow (generic function with 1 method)"
      ]
     },
     "execution_count": 201,
     "metadata": {},
     "output_type": "execute_result"
    }
   ],
   "source": [
    "function getHighestInRow(A, i)\n",
    "    #summary:: returns highest num in row(i)\n",
    "    if isRow(A,i)\n",
    "        return(maximum(@view(A[i,:])))\n",
    "    else\n",
    "        throw(\"e\")\n",
    "    end\n",
    "end"
   ]
  },
  {
   "cell_type": "code",
   "execution_count": 202,
   "metadata": {
    "scrolled": true
   },
   "outputs": [
    {
     "name": "stdout",
     "output_type": "stream",
     "text": [
      "2.0\n"
     ]
    }
   ],
   "source": [
    "println(getHighestInRow(data, 1))\n",
    "#link to SO to help solve this issue https://stackoverflow.com/questions/46793147/slicing-multidimesional-array-by-a-variable"
   ]
  },
  {
   "cell_type": "code",
   "execution_count": 200,
   "metadata": {},
   "outputs": [
    {
     "name": "stdout",
     "output_type": "stream",
     "text": [
      "  0.000004 seconds (6 allocations: 288 bytes)\n",
      "  0.000038 seconds (23 allocations: 608 bytes)\n"
     ]
    },
    {
     "data": {
      "text/plain": [
       "1-element SubArray{Any,1,Array{Any,2},Tuple{Int64,Base.Slice{Base.OneTo{Int64}}},true}:\n",
       " 1"
      ]
     },
     "execution_count": 200,
     "metadata": {},
     "output_type": "execute_result"
    }
   ],
   "source": [
    "@time(data[2,:])\n",
    "@time(@view(A[ i,:]))"
   ]
  },
  {
   "cell_type": "markdown",
   "metadata": {},
   "source": [
    "5. Write a method getTotal which accepts a two dimensional array of doubles as a parameter and returns the total of all the elements in the matrix. If the array is null or empty, return Double.MIN_VALUE.\n"
   ]
  },
  {
   "cell_type": "code",
   "execution_count": 165,
   "metadata": {},
   "outputs": [
    {
     "data": {
      "text/plain": [
       "16.0"
      ]
     },
     "execution_count": 165,
     "metadata": {},
     "output_type": "execute_result"
    }
   ],
   "source": [
    "sum(data)"
   ]
  }
 ],
 "metadata": {
  "kernelspec": {
   "display_name": "Julia 0.6.0",
   "language": "julia",
   "name": "julia-0.6"
  },
  "language_info": {
   "file_extension": ".jl",
   "mimetype": "application/julia",
   "name": "julia",
   "version": "0.6.0"
  }
 },
 "nbformat": 4,
 "nbformat_minor": 2
}
