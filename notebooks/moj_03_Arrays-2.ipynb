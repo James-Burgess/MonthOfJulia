{
 "cells": [
  {
   "cell_type": "markdown",
   "metadata": {},
   "source": [
    "# Multidimesional Arrays\n",
    "## Its a list in a list of lists...\n",
    "An array having more than two dimensions is called a multidimensional array.\n",
    "\n",
    "You can access a two-dimensional matrix element with two subscripts: the first representing the row index, and the second representing the column index.\n",
    "   ![1](https://www.mathworks.com/help/matlab/math/ch_data_struct3.gif)\n",
    "Multidimensional arrays use additional subscripts for indexing. A three-dimensional array, for example, uses three subscripts\n",
    "![2](https://www.mathworks.com/help/matlab/math/ch_data_struct4.gif)\n",
    "\n",
    "- The first references array dimension 1, the row.\n",
    "- The second references dimension 2, the column.\n",
    "- The third references dimension 3.\n",
    "    \n",
    "    \n",
    "This illustration uses the concept of a page to represent dimensions 3 and higher.\n",
    "\n",
    "To access the element in the second row, third column of page 2, for example, you use the subscripts (2,3,2).\n",
    "<br>\n",
    "<br>\n",
    "## Setting up"
   ]
  },
  {
   "cell_type": "code",
   "execution_count": 1,
   "metadata": {},
   "outputs": [
    {
     "data": {
      "text/plain": [
       "printsum (generic function with 1 method)"
      ]
     },
     "execution_count": 1,
     "metadata": {},
     "output_type": "execute_result"
    }
   ],
   "source": [
    "##the same printsum function from yesterday\n",
    "function printsum(a)\n",
    "    # summary:: Generates a summary of an object\n",
    "    println(summary(a), \": \", repr(a))\n",
    "end"
   ]
  },
  {
   "cell_type": "markdown",
   "metadata": {},
   "source": [
    "## Initialising n-dimensional arrays\n",
    "Many functions for constructing and initializing arrays are provided. In the following list of such functions, calls with a dims... argument can either take a single tuple of dimension sizes or a series of dimension sizes passed as a variable number of arguments. Most of these functions also accept a first input T, which is the element type of the array. If the type T is omitted it will default to Float64.\n",
    "<br>\n",
    "```Function```\tDescription\n",
    "<br>\n",
    "```Array{T}(dims...)```\tan uninitialized dense Array\n",
    "<br>\n",
    "```zeros(T, dims...)```\tan Array of all zeros\n",
    "<br>\n",
    "```zeros(A)```\tan array of all zeros with the same type, element type and shape as A\n",
    "<br>\n",
    "```ones(T, dims...)```\tan Array of all ones\n",
    "<br>\n",
    "```ones(A)```\tan array of all ones with the same type, element type and shape as A\n",
    "<br>\n",
    "```trues(dims...)```\ta BitArray with all values true\n",
    "<br>\n",
    "```trues(A)```\ta BitArray with all values true and the same shape as A\n",
    "<br>\n",
    "```falses(dims...)```\ta BitArray with all values false\n",
    "<br>\n",
    "```falses(A)```\ta BitArray with all values false and the same shape as A\n",
    "<br>\n",
    "```reshape(A, dims...)```\tan array containing the same data as A, but with different dimensions\n",
    "<br>\n",
    "```copy(A)```\tcopy A\n",
    "<br>\n",
    "```deepcopy(A)```\tcopy A, recursively copying its elements\n",
    "<br>\n",
    "```similar(A, T, dims...)```\tan uninitialized array of the same type as A (dense, sparse, etc.), but with the specified element type and dimensions. The second and third arguments are both optional, defaulting to the element type and dimensions of A if omitted.\n",
    "<br>\n",
    "```reinterpret(T, A)```\tan array with the same binary data as A, but with element type T\n",
    "<br>\n",
    "```rand(T, dims...)```\tan Array with random, iid and uniformly distributed values in the half-open interval 0,1\n",
    "<br>\n",
    "```randn(T, dims...)```\tan Array with random, iid and standard normally distributed values\n",
    "<br>\n",
    "```eye(T, n)```\tn-by-n identity matrix\n",
    "<br>\n",
    "```eye(T, m, n)```\tm-by-n identity matrix\n",
    "<br>\n",
    "```linspace(start, stop, n)```\trange of n linearly spaced elements from start to stop\n",
    "<br>\n",
    "```fill!(A, x)```\tfill the array A with the value x\n",
    "<br>\n",
    "```fill(x, dims...)```\tan Array filled with the value x\n",
    "<br>\n",
    "<br>\n",
    "## So lets try some of these out and make some arrays!"
   ]
  },
  {
   "cell_type": "code",
   "execution_count": 10,
   "metadata": {},
   "outputs": [
    {
     "name": "stdout",
     "output_type": "stream",
     "text": [
      "12-element Array{Int64,1}: [1, 2, 1, 2, 1, 2, 1, 2, 1, 2, 1, 2]\n",
      "12-element Array{Int64,1}: [1, 1, 2, 2, 3, 3, 1, 1, 2, 2, 3, 3]\n",
      "12-element Array{Int64,1}: [1, 1, 1, 2, 2, 2, 3, 3, 3, 4, 4, 4]\n",
      "12×3 Array{Int64,2}: [1 1 1; 2 1 1; 1 2 1; 2 2 2; 1 3 2; 2 3 2; 1 1 3; 2 1 3; 1 2 3; 2 2 4; 1 3 4; 2 3 4]\n"
     ]
    }
   ],
   "source": [
    "# repeat can be useful to expand a grid\n",
    "# as in R's expand.grid() function\n",
    "a = repeat([1,2],inner=[1],outer=[3*2])\n",
    "b = repeat([1,2,3],inner=[2],outer=[2])\n",
    "c = repeat([1,2,3,4],inner=[3],outer=[1])\n",
    "printsum(a)\n",
    "printsum(b)\n",
    "printsum(c)\n",
    "\n",
    "#now lets add them all together with hcat (horizontal concatation)\n",
    "m1 = [a b c]\n",
    "printsum(m1)"
   ]
  },
  {
   "cell_type": "code",
   "execution_count": 7,
   "metadata": {},
   "outputs": [
    {
     "name": "stdout",
     "output_type": "stream",
     "text": [
      "12×6 Array{Int64,2}: [1 1 1 1 1 1; 2 1 1 2 1 1; 1 2 1 1 2 1; 2 2 2 2 2 2; 1 3 2 1 3 2; 2 3 2 2 3 2; 1 1 3 1 1 3; 2 1 3 2 1 3; 1 2 3 1 2 3; 2 2 4 2 2 4; 1 3 4 1 3 4; 2 3 4 2 3 4]\n",
      "24×3 Array{Int64,2}: [1 1 1; 2 1 1; 1 2 1; 2 2 2; 1 3 2; 2 3 2; 1 1 3; 2 1 3; 1 2 3; 2 2 4; 1 3 4; 2 3 4; 1 1 1; 2 1 1; 1 2 1; 2 2 2; 1 3 2; 2 3 2; 1 1 3; 2 1 3; 1 2 3; 2 2 4; 1 3 4; 2 3 4]\n"
     ]
    }
   ],
   "source": [
    "#for simple repetitions of arrays, \n",
    "#use repmat\n",
    "\n",
    "# replicate m1 once into dim1 and twice into dim2\n",
    "m2 = repmat(m1,1,2) \n",
    "printsum(m2)\n",
    "\n",
    "#replicate m1 twice into dim1 and once into dim2\n",
    "m3 = repmat(m1,2,1)   \n",
    "printsum(m3)"
   ]
  },
  {
   "cell_type": "markdown",
   "metadata": {},
   "source": [
    "note how the output is showing how many dimensions there are in the show() function\n",
    "<br>\n",
    ">24×3 Array{Int64,2}"
   ]
  },
  {
   "cell_type": "code",
   "execution_count": 26,
   "metadata": {},
   "outputs": [
    {
     "name": "stdout",
     "output_type": "stream",
     "text": [
      "9×3×3 Array{Float64,3}: [0.401433 0.618003 0.69213; 0.108288 0.404777 0.154103; 0.471791 0.483503 0.411998; 0.208856 0.489068 0.676091; 0.714079 0.495382 0.351403; 0.433026 0.929933 0.702046; 0.626158 0.315136 0.0609321; 0.14459 0.113526 0.315764; 0.0327673 0.818828 0.795003]\n",
      "\n",
      "[0.846858 0.0271667 0.61899; 0.170805 0.815663 0.079799; 0.830743 0.506352 0.669182; 0.444768 0.910432 0.82389; 0.327489 0.180957 0.820432; 0.569912 0.00202483 0.237028; 0.37433 0.263044 0.603121; 0.288602 0.680032 0.350542; 0.933075 0.188174 0.75294]\n",
      "\n",
      "[0.244846 0.212927 0.51331; 0.1185 0.201512 0.140059; 0.754334 0.134866 0.753388; 0.305591 0.0796685 0.253984; 0.147096 0.833068 0.440506; 0.858083 0.2902 0.00475607; 0.98081 0.262119 0.140841; 0.38791 0.37327 0.672221; 0.725935 0.888978 0.306427]\n",
      "12×2×4 Array{Float64,3}: [0.338419 -1.65065; -0.00231605 0.252076; 0.792234 0.29226; -1.40075 -0.327944; 0.59852 1.56699; 2.15615 0.169927; -0.790463 -0.493216; -0.347925 0.0708134; 0.33639 0.619957; -0.256256 -0.34015; -0.0470733 -2.37717; 0.679573 -0.941495]\n",
      "\n",
      "[-0.265905 1.42372; 1.29528 0.778878; -0.274517 -0.191768; -0.566401 0.416045; 0.24887 1.56405; 0.00453274 -1.18128; -1.05385 0.433641; 1.98841 0.155096; 0.949003 0.104223; 0.902694 0.333821; -0.722211 0.313434; -1.78214 1.31324]\n",
      "\n",
      "[1.0199 1.4248; -2.31197 1.27583; -0.219877 -3.66401; -0.341469 0.601564; -1.97013 -0.595828; -0.0503436 0.867112; 2.00188 1.63059; -0.493612 0.665289; 2.10822 -1.4755; -0.680368 -0.145868; -1.60474 1.01266; -0.671761 1.39935]\n",
      "\n",
      "[0.561835 -0.637452; 0.210478 0.10036; 0.36508 0.226189; -0.0430057 0.0811189; -1.78664 -1.47076; -1.119 -0.223284; -2.35802 -1.13649; 0.801826 0.492283; -1.20247 -0.984991; -0.527844 0.399612; -0.299661 0.54523; -0.609682 1.6047]\n"
     ]
    }
   ],
   "source": [
    "#lets go to the next dimesion\n",
    "m3 = rand(9,3,3)\n",
    "printsum(m3)\n",
    "\n",
    "#and the next\n",
    "m4 = randn(12,2,4)\n",
    "printsum(m4)"
   ]
  },
  {
   "cell_type": "code",
   "execution_count": 44,
   "metadata": {},
   "outputs": [
    {
     "name": "stdout",
     "output_type": "stream",
     "text": [
      "2×2 Array{Int64,2}: [2 4; 3 5]\n",
      "2×2 Array{Int64,2}: [2 3; 4 5]\n"
     ]
    }
   ],
   "source": [
    "#Yay, just answered my first question on \n",
    "#stack overflow with this!\n",
    "#https://stackoverflow.com/a/46689828/6372042\n",
    "a = [2,3]\n",
    "\n",
    "#hcat\n",
    "b = [[2, 3] [4, 5]]\n",
    "printsum(b)\n",
    "\n",
    "#vcat\n",
    "c = [[2 3] ; [4 5]]\n",
    "printsum(c)"
   ]
  },
  {
   "cell_type": "code",
   "execution_count": 46,
   "metadata": {},
   "outputs": [
    {
     "name": "stdout",
     "output_type": "stream",
     "text": [
      "2×3×2 Array{String,3}: String[\"Hi Im element # 1\" \"Hi Im element # 3\" \"Hi Im element # 5\"; \"Hi Im element # 2\" \"Hi Im element # 4\" \"Hi Im element # 6\"]\n",
      "\n",
      "String[\"Hi Im element # 7\" \"Hi Im element # 9\" \"Hi Im element # 11\"; \"Hi Im element # 8\" \"Hi Im element # 10\" \"Hi Im element # 12\"]\n"
     ]
    }
   ],
   "source": [
    "#lets create a multi array with list comprehensions\n",
    "#each argument will create a new dimension\n",
    "m5 = String[\"Hi Im element # $(i+2*(j-1 + 3*(k-1)))\" for i=1:2, j=1:3, k=1:2]\n",
    "printsum(m5)"
   ]
  }
 ],
 "metadata": {
  "kernelspec": {
   "display_name": "Julia 0.6.0",
   "language": "julia",
   "name": "julia-0.6"
  },
  "language_info": {
   "file_extension": ".jl",
   "mimetype": "application/julia",
   "name": "julia",
   "version": "0.6.0"
  }
 },
 "nbformat": 4,
 "nbformat_minor": 2
}
