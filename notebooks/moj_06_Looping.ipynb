{
 "cells": [
  {
   "cell_type": "markdown",
   "metadata": {},
   "source": [
    "# Looping\n",
    "## lets get loopy\n",
    "<br>\n",
    "<br>\n",
    "### Lets start with the for loop\n",
    "The for loop makes common repeated evaluation idioms easier to write"
   ]
  },
  {
   "cell_type": "code",
   "execution_count": 25,
   "metadata": {},
   "outputs": [
    {
     "name": "stdout",
     "output_type": "stream",
     "text": [
      "1, 2, 3, 4, 5, 1, 2, 3, 4, 5, \n",
      "(1, 3)\n",
      "(1, 4)\n",
      "(2, 3)\n",
      "(2, 4)\n"
     ]
    }
   ],
   "source": [
    "#we can call for loops with 'in' or with '='\n",
    "for i in 1:5\n",
    "    print(i, \", \")\n",
    "end\n",
    "#> 1, 2, 3, 4, 5, \n",
    "\n",
    "# In loop definitions \"in\" is equivilent to \"=\"\n",
    "for i = 1:5\n",
    "    print(i, \", \")\n",
    "end\n",
    "println() \n",
    "#> 1, 2, 3, 4, 5, \n",
    "\n",
    "# Multiple nested for loops can be combined into a single outer loop, forming the cartesian product of its iterables:\n",
    "for i = 1:2, j = 3:4\n",
    "           println((i, j))\n",
    "end\n",
    "#>(1, 3)\n",
    "#>(1, 4)\n",
    "#>(2, 3)\n",
    "#>(2, 4)"
   ]
  },
  {
   "cell_type": "markdown",
   "metadata": {},
   "source": [
    "## Array Looping"
   ]
  },
  {
   "cell_type": "code",
   "execution_count": 18,
   "metadata": {
    "scrolled": true
   },
   "outputs": [
    {
     "name": "stdout",
     "output_type": "stream",
     "text": [
      "1, 2, 3, 4, \n"
     ]
    }
   ],
   "source": [
    "a1 = [1,2,3,4]\n",
    "\n",
    "# arrays can also be looped over directly:\n",
    "for i in a1\n",
    "    print(i, \", \")\n",
    "end\n",
    "println() \n",
    "#> 1, 2, 3, 4, "
   ]
  },
  {
   "cell_type": "code",
   "execution_count": 24,
   "metadata": {},
   "outputs": [
    {
     "name": "stdout",
     "output_type": "stream",
     "text": [
      "foo\n",
      "bar\n",
      "baz\n"
     ]
    }
   ],
   "source": [
    "# the alternative keyword in or ∈ is typically used instead of =, since it makes the code read more clearly:\n",
    "for s ∈ [\"foo\",\"bar\",\"baz\"]\n",
    "           println(s)\n",
    "end\n",
    "#>foo\n",
    "#>bar\n",
    "#>baz"
   ]
  },
  {
   "cell_type": "code",
   "execution_count": 19,
   "metadata": {},
   "outputs": [
    {
     "name": "stdout",
     "output_type": "stream",
     "text": [
      "1: one, 2: two, 3: three, \n"
     ]
    }
   ],
   "source": [
    "# like python enumerate can be used to get both the index and value in a loop\n",
    "a3 = [\"one\", \"two\", \"three\"]\n",
    "for (i, v) in enumerate(a3)\n",
    "    print(i, \": \", v, \", \")\n",
    "end\n",
    "println() #> 1: one, 2: two, 3: three, \n",
    "\n",
    "# (note enumerate starts from 1 since Julia arrays are 1 indexed unlike python)(which is not cool)"
   ]
  },
  {
   "cell_type": "markdown",
   "metadata": {},
   "source": [
    "Should we continue?"
   ]
  },
  {
   "cell_type": "code",
   "execution_count": 3,
   "metadata": {},
   "outputs": [
    {
     "name": "stdout",
     "output_type": "stream",
     "text": [
      "1, 2, 3, 4, \n",
      "2, 4, 6, 8, \n"
     ]
    }
   ],
   "source": [
    "# continue and break work in the same way as python\n",
    "a2 = collect(1:20)\n",
    "for i in a2\n",
    "    if i % 2 != 0\n",
    "        continue\n",
    "    end\n",
    "    print(i, \", \")\n",
    "    if i >= 8\n",
    "        break\n",
    "    end\n",
    "end\n",
    "println() \n",
    "#> 2, 4, 6, 8, "
   ]
  },
  {
   "cell_type": "markdown",
   "metadata": {},
   "source": [
    "## The While Loop\n",
    "If you tell a programmer to do something once in a while, they will do it forever.\n",
    "<br><br>\n",
    "The while loop evaluates the condition expression (i <= 5 in this case), and as long it remains true, keeps also evaluating the body of the while loop. If the condition expression is false when the while loop is first reached, the body is never evaluated."
   ]
  },
  {
   "cell_type": "code",
   "execution_count": 16,
   "metadata": {},
   "outputs": [
    {
     "name": "stdout",
     "output_type": "stream",
     "text": [
      "Any[0, 1, 2, 3, 4, 5, 6, 7, 8, 9, 10, 11, 12, 13, 14, 15, 16, 17, 18, 19, 20]\n"
     ]
    }
   ],
   "source": [
    "#the while loop works much like you would expect\n",
    "a = []\n",
    "i = 0\n",
    "while i <= 20\n",
    "    push!(a, i)\n",
    "    i += 1\n",
    "end\n",
    "println(a)"
   ]
  },
  {
   "cell_type": "code",
   "execution_count": 8,
   "metadata": {},
   "outputs": [
    {
     "name": "stdout",
     "output_type": "stream",
     "text": [
      "4, 3, 2, 1, \n"
     ]
    }
   ],
   "source": [
    "# if the array is being manipulated during evaluation a while loop shoud be used\n",
    "# pop removes the last element from an array\n",
    "while !isempty(a1)\n",
    "    print(pop!(a1), \", \") #pop! will return the item being deleted\n",
    "end\n",
    "println() #> 4, 3, 2, 1,"
   ]
  },
  {
   "cell_type": "markdown",
   "metadata": {},
   "source": [
    "## Map Functions\n",
    "wanna apply a function to all elements in an array? mappit!"
   ]
  },
  {
   "cell_type": "code",
   "execution_count": 23,
   "metadata": {},
   "outputs": [
    {
     "name": "stdout",
     "output_type": "stream",
     "text": [
      "[1, 4, 9, 49]"
     ]
    }
   ],
   "source": [
    "# map works as you might expect performing the given function on each member of an array or iter much like comprehensions\n",
    "a = [1,2,3,7]\n",
    "#think of it like x becomes x^2 in array a of x's\n",
    "#map({variable} -> {function} , {array})\n",
    "a4 = map((x) -> x^2, a)\n",
    "print(a4) #> 4-element Array{Int64,1}: [1,4,9,49]"
   ]
  }
 ],
 "metadata": {
  "kernelspec": {
   "display_name": "Julia 0.6.0",
   "language": "julia",
   "name": "julia-0.6"
  },
  "language_info": {
   "file_extension": ".jl",
   "mimetype": "application/julia",
   "name": "julia",
   "version": "0.6.0"
  }
 },
 "nbformat": 4,
 "nbformat_minor": 2
}
