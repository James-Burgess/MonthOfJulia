{
 "cells": [
  {
   "cell_type": "markdown",
   "metadata": {},
   "source": [
    "# Arrays in Julia\n",
    "[docs](https://docs.julialang.org/en/release-0.5/manual/arrays/)\n"
   ]
  },
  {
   "cell_type": "markdown",
   "metadata": {},
   "source": [
    "## Looking inside\n",
    "lets write a function to look at the array that we send to it\n",
    "I'll call it ```printsum```"
   ]
  },
  {
   "cell_type": "code",
   "execution_count": 1,
   "metadata": {},
   "outputs": [
    {
     "data": {
      "text/plain": [
       "printsum (generic function with 1 method)"
      ]
     },
     "execution_count": 1,
     "metadata": {},
     "output_type": "execute_result"
    }
   ],
   "source": [
    "function printsum(a)\n",
    "    # summary:: Generates a summary of an object\n",
    "    println(summary(a), \": \", repr(a))\n",
    "end"
   ]
  },
  {
   "cell_type": "markdown",
   "metadata": {},
   "source": [
    "# Construction and Initialization\n",
    "\n",
    "Many functions for constructing and initializing arrays are provided [in the docs](https://docs.julialang.org/en/release-0.5/manual/arrays/#construction-and-initialization)"
   ]
  },
  {
   "cell_type": "code",
   "execution_count": 2,
   "metadata": {},
   "outputs": [
    {
     "name": "stdout",
     "output_type": "stream",
     "text": [
      "10-element Array{Int64,1}: [1, 2, 3, 4, 5, 6, 7, 8, 9, 10]\n",
      "0-element Array{Any,1}: Any[]\n",
      "0-element Array{Int64,1}: Int64[]\n",
      "20-element UnitRange{Int64}: 1:20\n",
      "10-element Array{Int64,1}: [1, 2, 3, 4, 5, 6, 7, 8, 9, 10]\n",
      "8-element Array{Float64,1}: [0.298675, 0.921028, 0.470259, 0.99709, 0.531634, 0.447773, 0.635307, 0.849938]\n",
      "0.2986746467504009"
     ]
    },
    {
     "ename": "LoadError",
     "evalue": "\u001b[91mBoundsError: attempt to access 8-element Array{Float64,1} at index [0]\u001b[39m",
     "output_type": "error",
     "traceback": [
      "\u001b[91mBoundsError: attempt to access 8-element Array{Float64,1} at index [0]\u001b[39m",
      ""
     ]
    }
   ],
   "source": [
    "#arrays can be initilaised directly\n",
    "a = [1,2,3,4,5,6,7,8,9,10]\n",
    "printsum(a)\n",
    "\n",
    "#or initialised empty\n",
    "a1 = []\n",
    "printsum(a1)\n",
    "\n",
    "#Arrays can be initialised with a type \n",
    "#so that push will work\n",
    "a3 = Int64[]\n",
    "printsum(a3)\n",
    "\n",
    "#ranges are different from arrays\n",
    "a4 = 1:20\n",
    "printsum(a4)\n",
    "\n",
    "#however they can be used to create arrays\n",
    "a4 = collect(1:10)\n",
    "printsum(a4)\n",
    "\n",
    "#rand(x) will produce a float64 x times\n",
    "a0 = rand(8)\n",
    "printsum(a0)\n",
    "\n",
    "#motherfuck, what is this? matlab?\n",
    "#arrays are indexed from 1!?\n",
    "print(a0[1]) #noterror\n",
    "print(a0[0]) #error"
   ]
  },
  {
   "cell_type": "markdown",
   "metadata": {},
   "source": [
    "## Appending Arrays"
   ]
  },
  {
   "cell_type": "code",
   "execution_count": 3,
   "metadata": {},
   "outputs": [
    {
     "name": "stdout",
     "output_type": "stream",
     "text": [
      "11-element Array{Int64,1}: [1, 2, 3, 4, 5, 6, 7, 8, 9, 10, 5]\n",
      "1-element Array{Any,1}: Any[\"string\"]\n"
     ]
    },
    {
     "ename": "LoadError",
     "evalue": "\u001b[91mUndefVarError: a6 not defined\u001b[39m",
     "output_type": "error",
     "traceback": [
      "\u001b[91mUndefVarError: a6 not defined\u001b[39m",
      ""
     ]
    }
   ],
   "source": [
    "#use push! to append to the end of a list\n",
    "#the ! indicates that the first arg is updated\n",
    "push!(a, 5)\n",
    "printsum(a)\n",
    "\n",
    "push!(a1, \"string\")\n",
    "printsum(a1)\n",
    "\n",
    "push!(a6, [1,2,3],[256,999,84])\n",
    "printsum(a6)"
   ]
  },
  {
   "cell_type": "markdown",
   "metadata": {},
   "source": [
    "## Deleting"
   ]
  },
  {
   "cell_type": "code",
   "execution_count": 4,
   "metadata": {},
   "outputs": [
    {
     "name": "stdout",
     "output_type": "stream",
     "text": [
      "11-element Array{Int64,1}: [1, 2, 3, 4, 5, 6, 7, 8, 9, 10, 5]\n",
      "10-element Array{Int64,1}: [1, 2, 3, 4, 5, 6, 7, 8, 9, 10]\n",
      "8-element Array{Float64,1}: [0.298675, 0.921028, 0.470259, 0.99709, 0.531634, 0.447773, 0.635307, 0.849938]\n",
      "7-element Array{Float64,1}: [0.298675, 0.921028, 0.99709, 0.531634, 0.447773, 0.635307, 0.849938]\n"
     ]
    }
   ],
   "source": [
    "#pop! will delete the last element in the array\n",
    "printsum(a)\n",
    "pop!(a)\n",
    "printsum(a)\n",
    "\n",
    "#deleteat! will deleate at K\n",
    "printsum(a0)\n",
    "deleteat!(a0, 3)\n",
    "printsum(a0)"
   ]
  },
  {
   "cell_type": "markdown",
   "metadata": {},
   "source": [
    "## The repeat function"
   ]
  },
  {
   "cell_type": "code",
   "execution_count": 5,
   "metadata": {},
   "outputs": [
    {
     "name": "stdout",
     "output_type": "stream",
     "text": [
      "30-element Array{Int64,1}: [1, 1, 1, 2, 2, 2, 3, 3, 3, 4, 4, 4, 5, 5, 5, 6, 6, 6, 7, 7, 7, 8, 8, 8, 9, 9, 9, 10, 10, 10]\n",
      "2-element Array{StepRange{Int64,Int64},1}: StepRange{Int64,Int64}[4:-1:1, 4:-1:1]\n"
     ]
    }
   ],
   "source": [
    "#using repeat to create arrays\n",
    "#using keywords 'inner' and 'outer'\n",
    "\n",
    "a7 = repeat(a, inner=[3], outer=[1])\n",
    "printsum(a7)\n",
    "\n",
    "a8 = repeat([4:-1:1], inner=[1], outer=[2])\n",
    "printsum(a8)"
   ]
  },
  {
   "cell_type": "markdown",
   "metadata": {},
   "source": [
    "# Basic Functions"
   ]
  },
  {
   "cell_type": "markdown",
   "metadata": {},
   "source": [
    "## Basic functions\n",
    "#### Functions and Description\n",
    "```eltype(A) ```\t- the type of the elements contained in A\n",
    "<br>\n",
    "```length(A) ```\t- the number of elements in A\n",
    "<br>\n",
    "```ndims(A)``` \t    - the number of dimensions of A\n",
    "<br>\n",
    "```size(A)``` \t    - a tuple containing the dimensions of A\n",
    "<br>\n",
    "```size(A,n) ```\t- the size of A along a particular dimension\n",
    "<br>\n",
    "```indices(A)``` \t- a tuple containing the valid indices of A\n",
    "<br>\n",
    "```indices(A,n)``` \t- a range expressing the valid indices along dimension n\n",
    "<br>\n",
    "```eachindex(A)``` \t- an efficient iterator for visiting each position in A\n",
    "<br>\n",
    "```stride(A,k)``` \t- the stride (linear index distance between adjacent elements) along dimension k\n",
    "<br>\n",
    "```strides(A)``` \t- a tuple of the strides in each dimension"
   ]
  },
  {
   "cell_type": "code",
   "execution_count": 6,
   "metadata": {},
   "outputs": [
    {
     "name": "stdout",
     "output_type": "stream",
     "text": [
      "Int64\n",
      "10\n",
      "1\n",
      "(10,)\n",
      "(Base.OneTo(10),)\n",
      "Base.OneTo(10)\n",
      "1\n",
      "(1,)\n"
     ]
    }
   ],
   "source": [
    "#check type\n",
    "println(eltype(a4))\n",
    "\n",
    "#check length\n",
    "println(length(a4))\n",
    "\n",
    "#check dimesions\n",
    "println(ndims(a4))\n",
    "\n",
    "#a tuple containing dimesions\n",
    "println(size(a4))\n",
    "\n",
    "#all the valid indices\n",
    "println(indices(a4))\n",
    "\n",
    "#iterator\n",
    "println(eachindex(a4))\n",
    "\n",
    "#linear distance between elements along dimeson K\n",
    "println(stride(a4,1))\n",
    "\n",
    "#linear distance in each dimesions\n",
    "println(strides(a4))"
   ]
  },
  {
   "cell_type": "markdown",
   "metadata": {},
   "source": [
    "## Concatenation\n",
    "\n",
    "Arrays can be constructed and also concatenated using the following functions:\n",
    "#### Functions and \tDescription\n",
    "```cat(k, A...) ```\tconcatenate input n-d arrays along the dimension k\n",
    "<br>\n",
    "```vcat(A...) ```\tshorthand for cat(1, A...)\n",
    "<br>\n",
    "```hcat(A...)``` \tshorthand for cat(2, A...)"
   ]
  },
  {
   "cell_type": "code",
   "execution_count": 7,
   "metadata": {},
   "outputs": [
    {
     "name": "stdout",
     "output_type": "stream",
     "text": [
      "20-element Array{Int64,1}: [1, 2, 3, 4, 5, 6, 7, 8, 9, 10, 1, 2, 3, 4, 5, 6, 7, 8, 9, 10]\n"
     ]
    }
   ],
   "source": [
    "a9 = cat(1,a, a4)\n",
    "printsum(a9)"
   ]
  },
  {
   "cell_type": "code",
   "execution_count": 8,
   "metadata": {},
   "outputs": [
    {
     "name": "stdout",
     "output_type": "stream",
     "text": [
      "20-element Array{Int64,1}: [1, 2, 3, 4, 5, 6, 7, 8, 9, 10, 1, 2, 3, 4, 5, 6, 7, 8, 9, 10]\n"
     ]
    }
   ],
   "source": [
    "a10 = vcat(a, a4)\n",
    "printsum(a10)"
   ]
  },
  {
   "cell_type": "code",
   "execution_count": 9,
   "metadata": {},
   "outputs": [
    {
     "name": "stdout",
     "output_type": "stream",
     "text": [
      "Base.#all: all\n"
     ]
    }
   ],
   "source": [
    "a11 = hcat(a, a4) #wont work for different dimesions\n",
    "printsum(all)"
   ]
  },
  {
   "cell_type": "code",
   "execution_count": 10,
   "metadata": {},
   "outputs": [
    {
     "name": "stdout",
     "output_type": "stream",
     "text": [
      "20-element Array{Int64,1}: [1, 2, 3, 4, 5, 6, 7, 8, 9, 10, 1, 2, 3, 4, 5, 6, 7, 8, 9, 10]\n"
     ]
    },
    {
     "name": "stderr",
     "output_type": "stream",
     "text": [
      "WARNING: imported binding for all overwritten in module Main\n"
     ]
    },
    {
     "name": "stdout",
     "output_type": "stream",
     "text": [
      "10×2 Array{Int64,2}: [1 1; 2 2; 3 3; 4 4; 5 5; 6 6; 7 7; 8 8; 9 9; 10 10]\n",
      "20×2 Array{Int64,2}: [1 1; 2 2; 3 3; 4 4; 5 5; 6 6; 7 7; 8 8; 9 9; 10 10; 1 1; 2 2; 3 3; 4 4; 5 5; 6 6; 7 7; 8 8; 9 9; 10 10]\n"
     ]
    }
   ],
   "source": [
    "#The concatenation functions are used so often that they have special syntax:\n",
    "all = [a; a4] #vcat\n",
    "printsum(all)\n",
    "\n",
    "ball = [a a4] #hcat\n",
    "printsum(ball)\n",
    "\n",
    "mall = [a a4; a a4] #hvcat - both directions\n",
    "printsum(mall)"
   ]
  },
  {
   "cell_type": "markdown",
   "metadata": {},
   "source": [
    "# List Comprehension\n",
    "[docs](https://docs.julialang.org/en/release-0.5/manual/arrays/#comprehensions)\n",
    "Comprehensions provide a general and powerful way to construct arrays. Comprehension syntax is similar to set construction notation in mathematics and will work much like python\n",
    "<br>\n",
    "``` A = [(argument) for (iterator) in (ennumerator) ]```\n",
    "<br>\n",
    "or\n",
    "<br>\n",
    "```A = [ F(x,y,...) for x=rx, y=ry, ... ]```"
   ]
  },
  {
   "cell_type": "code",
   "execution_count": 11,
   "metadata": {},
   "outputs": [
    {
     "name": "stdout",
     "output_type": "stream",
     "text": [
      "7-element Array{Float64,1}: [0.298675, 0.921028, 0.99709, 0.531634, 0.447773, 0.635307, 0.849938]\n",
      "5-element Array{Float64,1}: [0.784455, 0.86171, 0.627033, 0.515622, 0.642081]\n"
     ]
    }
   ],
   "source": [
    "#The following example computes a weighted average \n",
    "#of the current element and its left and right neighbor along a 1-d grid\n",
    "y = Float64[ 0.25*a0[i-1] + 0.5*a0[i] + 0.25*a0[i+1] for i=2:length(a0)-1 ]\n",
    "printsum(a0)\n",
    "printsum(y)"
   ]
  },
  {
   "cell_type": "code",
   "execution_count": 12,
   "metadata": {},
   "outputs": [
    {
     "name": "stdout",
     "output_type": "stream",
     "text": [
      "10-element Array{Int64,1}: [2, 4, 8, 16, 32, 64, 128, 256, 512, 1024]\n",
      "0-element Array{Array{Int64,1},1}: Array{Int64,1}[]\n"
     ]
    }
   ],
   "source": [
    "#arrays can also be gend from comprehensions\n",
    "a5 = [2^i for i = 1:10]\n",
    "printsum(a5)\n",
    "\n",
    "# arrays can be any type, so arrays of arrays can be created\n",
    "#not the same as multidimesional arrays\n",
    "a6 = (Array{Int64, 1})[]\n",
    "printsum(a6)"
   ]
  }
 ],
 "metadata": {
  "kernelspec": {
   "display_name": "Julia 0.6.0",
   "language": "julia",
   "name": "julia-0.6"
  },
  "language_info": {
   "file_extension": ".jl",
   "mimetype": "application/julia",
   "name": "julia",
   "version": "0.6.0"
  }
 },
 "nbformat": 4,
 "nbformat_minor": 2
}
