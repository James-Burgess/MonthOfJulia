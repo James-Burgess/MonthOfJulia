{
 "cells": [
  {
   "cell_type": "code",
   "execution_count": 1,
   "metadata": {},
   "outputs": [],
   "source": [
    "#todo\n",
    "# https://stackoverflow.com/questions/37657664/how-to-unpack-multdimensional-array-into-variables-in-julia\n",
    "# indexing\n",
    "# types\n",
    "# \n",
    "# Array reductions\n",
    "# finding items\n",
    "# functions\n"
   ]
  },
  {
   "cell_type": "code",
   "execution_count": null,
   "metadata": {},
   "outputs": [],
   "source": [
    "# Array reductions\n",
    "# many functions in Julia have an array method\n",
    "# to be applied to specific dimensions of an array:\n",
    "\n",
    "sum(m4,3)        # takes the sum over the third dimension\n",
    "sum(m4,(1,3))    # sum over first and third dim\n",
    "\n",
    "maximum(m4,2)    # find the max elt along dim 2\n",
    "findmax(m4,3)    # find the max elt and its index along dim 2 (available only in very recent Julia versions)\n",
    "\n",
    "# Broadcasting\n",
    "# when you combine arrays of different sizes in an operation,\n",
    "# an attempt is made to \"spread\" or \"broadcast\" the smaller array\n",
    "# so that the sizes match up. broadcast operators are preceded by a dot: \n",
    "\n",
    "m4 .+ 3       # add 3 to all elements\n",
    "m4 .+ [1,2]      # adds vector [1,2] to all elements along first dim\n",
    "\n",
    "# slices and views\n",
    "m4[:,:,1]  # holds dim 3 fixed and displays the resulting view\n",
    "m4[:,2,:]  # that's a 2x1x2 array. not very intuititive to look at\n",
    "\n",
    "# get rid of dimensions with size 1:\n",
    "squeeze(m4[:,2,:],2)  # that's better\n",
    "\n",
    "# assign new values to a certain view\n",
    "m4[:,:,1] = rand(1:6,2,3)\n",
    "printsum(m4)\n",
    "#> 2x3x2 Array{Int64,3}: [3 5 2\n",
    "#>  2 2 2]\n",
    "#> \n",
    "#> [4 5 6\n",
    "#>  5 6 7]\n",
    "\n",
    "# (for more examples of try, catch see Error Handling above)\n",
    "try\n",
    "    # this will cause an error, you have to assign the correct type\n",
    "    m4[:,:,1] = rand(2,3)\n",
    "catch err\n",
    "    println(err)\n",
    "end\n",
    "#> InexactError()\n",
    "\n",
    "try\n",
    "    # this will cause an error, you have to assign the right shape\n",
    "    m4[:,:,1] = rand(1:6,3,2)\n",
    "catch err\n",
    "    println(err)\n",
    "end\n",
    "#> DimensionMismatch(\"tried to assign 3x2 array to 2x3x1 destination\")"
   ]
  }
 ],
 "metadata": {
  "kernelspec": {
   "display_name": "Julia 0.6.0",
   "language": "julia",
   "name": "julia-0.6"
  },
  "language_info": {
   "file_extension": ".jl",
   "mimetype": "application/julia",
   "name": "julia",
   "version": "0.6.0"
  }
 },
 "nbformat": 4,
 "nbformat_minor": 2
}
