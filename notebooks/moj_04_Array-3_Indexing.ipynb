{
 "cells": [
  {
   "cell_type": "markdown",
   "metadata": {},
   "source": [
    "# Arrays 3\n",
    "## indexing and some fun functions ;)\n",
    "\n",
    "lets start of by making some arrays"
   ]
  },
  {
   "cell_type": "code",
   "execution_count": 3,
   "metadata": {},
   "outputs": [
    {
     "name": "stdout",
     "output_type": "stream",
     "text": [
      "a: [0.41311, 0.539845, 0.139133, 0.45348, 0.531083, 0.752712, 0.256485, 0.0943359, 0.304961, 0.535773, 0.969521, 0.81599, 0.192684, 0.313582, 0.574234, 0.537593]\n",
      "\n",
      "b: String[\"string 1\", \"string 2\", \"string 3\", \"string 4\", \"string 5\", \"string 6\", \"string 7\", \"string 8\", \"string 9\", \"string 10\", \"string 11\", \"string 12\", \"string 13\", \"string 14\", \"string 15\", \"string 16\"]\n",
      "\n",
      "c: [0.622426 0.732425; 0.359148 0.213892; 0.859019 0.504758; 0.0566629 0.906204; 0.564086 0.714988; 0.0386678 0.331592; 0.274303 0.641768; 0.485286 0.08751; 0.697293 0.951779; 0.656982 0.324323; 0.426887 0.0382677; 0.736226 0.370796; 0.691687 0.320061; 0.0102286 0.0504034; 0.455321 0.846072; 0.310374 0.595665]\n",
      "\n",
      "d: [1.35782 1.32199; 0.263657 1.10136; -0.420714 -1.46789; 0.467772 -0.835878; 0.692382 1.38424; 0.0608289 0.725237; -0.20495 -0.483476; -0.0732224 0.239878; -0.610079 0.0717458; 1.01546 -0.306301; -0.815129 1.05422; 1.91981 -0.111385; -1.90555 -0.579125; 0.377989 -1.59038; 1.33126 -1.55323; -0.161378 0.432045]\n",
      "\n",
      "[-0.3844 1.58293; -0.09516 0.0471297; 1.9647 0.988176; -0.423259 -1.2285; 2.02706 0.857205; -0.530966 0.612464; 2.32568 1.37652; -1.00222 0.13212; 1.18503 0.645003; 1.26622 0.0645047; 0.382071 0.832926; -1.67032 -1.03153; 0.752933 0.793641; -0.61121 1.85172; 0.855358 -0.259588; 0.746223 0.154208]\n"
     ]
    }
   ],
   "source": [
    "#1d array of rand float 64s\n",
    "a = rand(16) \n",
    "\n",
    "#array of srtings\n",
    "b = [\"string $(i)\" for i in 1:16]\n",
    "\n",
    "#2d array of 16 floats in 2 steps\n",
    "c = rand(16,2)\n",
    "\n",
    "#3d array of 16 floats in 2 steps each dirction\n",
    "d = randn(16,2,2)\n",
    "\n",
    "#display em\n",
    "println(\"a: \", a)\n",
    "println()\n",
    "println(\"b: \", b)\n",
    "println()\n",
    "println(\"c: \", c)\n",
    "println()\n",
    "println(\"d: \", d)"
   ]
  },
  {
   "cell_type": "markdown",
   "metadata": {},
   "source": [
    "### now lets start playing with them :)\n",
    "Array reductions"
   ]
  },
  {
   "cell_type": "code",
   "execution_count": 1,
   "metadata": {},
   "outputs": [
    {
     "data": {
      "text/plain": [
       "printsum (generic function with 1 method)"
      ]
     },
     "execution_count": 1,
     "metadata": {},
     "output_type": "execute_result"
    }
   ],
   "source": [
    "#this should look familiar\n",
    "function printsum(a)\n",
    "    # summary:: Generates a summary of an object\n",
    "    println(summary(a), \": \", repr(a))\n",
    "end"
   ]
  },
  {
   "cell_type": "markdown",
   "metadata": {},
   "source": [
    "## Some gereic builtins"
   ]
  },
  {
   "cell_type": "code",
   "execution_count": 4,
   "metadata": {},
   "outputs": [
    {
     "name": "stdout",
     "output_type": "stream",
     "text": [
      "Float64: 7.424523316794834\n",
      "16×1 Array{Float64,2}: [1.35485; 0.573041; 1.36378; 0.962867; 1.27907; 0.370259; 0.916071; 0.572796; 1.64907; 0.981304; 0.465155; 1.10702; 1.01175; 0.060632; 1.30139; 0.906039]\n",
      "1×2×1 Array{Float64,3}: [10.0837 6.82197]\n"
     ]
    }
   ],
   "source": [
    "# many functions in Julia have an array method\n",
    "# to be applied to specific dimensions of an array:\n",
    "\n",
    "#add up all items in array\n",
    "a1 = sum(a)\n",
    "printsum(a1)\n",
    "\n",
    "# takes the sum over the second dimension\n",
    "c1 = sum(c ,2)\n",
    "printsum(c1)        \n",
    "\n",
    "# sum over first and third dim\n",
    "d1 = sum(d,(1,3))\n",
    "printsum(d1)    "
   ]
  },
  {
   "cell_type": "code",
   "execution_count": 5,
   "metadata": {},
   "outputs": [
    {
     "name": "stdout",
     "output_type": "stream",
     "text": [
      "16×1 Array{Float64,2}: [0.732425; 0.359148; 0.859019; 0.906204; 0.714988; 0.331592; 0.641768; 0.485286; 0.951779; 0.656982; 0.426887; 0.736226; 0.691687; 0.0504034; 0.846072; 0.595665]\n",
      "Float64: 0.9517790314150336\n",
      "Tuple{Array{Float64,3},Array{Int64,3}}: ([1.35782 1.58293; 0.263657 1.10136; 1.9647 0.988176; 0.467772 -0.835878; 2.02706 1.38424; 0.0608289 0.725237; 2.32568 1.37652; -0.0732224 0.239878; 1.18503 0.645003; 1.26622 0.0645047; 0.382071 1.05422; 1.91981 -0.111385; 0.752933 0.793641; 0.377989 1.85172; 1.33126 -0.259588; 0.746223 0.432045], [1 49; 2 18; 35 51; 4 20; 37 21; 6 22; 39 55; 8 24; 41 57; 42 58; 43 27; 12 28; 45 61; 14 62; 15 63; 48 32])\n"
     ]
    }
   ],
   "source": [
    "# find the max elt between dim 1 and 2\n",
    "c2 = maximum(c,2)    \n",
    "printsum(c2)\n",
    "\n",
    "#find max of all elements in array\n",
    "c3 = maximum(c)\n",
    "printsum(c3)\n",
    "\n",
    "# find the max elt and its index along dim 2\n",
    "d2 = findmax(d, 3)  \n",
    "printsum(d2)"
   ]
  },
  {
   "cell_type": "markdown",
   "metadata": {},
   "source": [
    "## Broadcasting\n",
    "when you combine array of different sizes, an attempt is made to spread or broadcast the smaller array so that the sizes match up."
   ]
  },
  {
   "cell_type": "code",
   "execution_count": 21,
   "metadata": {},
   "outputs": [
    {
     "name": "stdout",
     "output_type": "stream",
     "text": [
      "16×2 Array{Float64,2}: [3.62243 3.73243; 3.35915 3.21389; 3.85902 3.50476; 3.05666 3.9062; 3.56409 3.71499; 3.03867 3.33159; 3.2743 3.64177; 3.48529 3.08751; 3.69729 3.95178; 3.65698 3.32432; 3.42689 3.03827; 3.73623 3.3708; 3.69169 3.32006; 3.01023 3.0504; 3.45532 3.84607; 3.31037 3.59566]\n",
      "16×2 Array{Float64,2}: [1.62243 2.73243; 1.35915 2.21389; 1.85902 2.50476; 1.05666 2.9062; 1.56409 2.71499; 1.03867 2.33159; 1.2743 2.64177; 1.48529 2.08751; 1.69729 2.95178; 1.65698 2.32432; 1.42689 2.03827; 1.73623 2.3708; 1.69169 2.32006; 1.01023 2.0504; 1.45532 2.84607; 1.31037 2.59566]\n"
     ]
    }
   ],
   "source": [
    "#broadcast operators are preceded by a dot: \n",
    "\n",
    "# add 3 to all elements\n",
    "c4 = c .+ 3       \n",
    "printsum(c4)\n",
    "\n",
    "# adds vector [1 2] to all elements along first dim\n",
    "c5 = c .+ [1 2]  \n",
    "printsum(c5)"
   ]
  },
  {
   "cell_type": "markdown",
   "metadata": {},
   "source": [
    "## Slices and Views\n",
    "array slicing is an operation that extracts a subset of elements from an array and packages them as another array, possibly in a different dimension from the original."
   ]
  },
  {
   "cell_type": "code",
   "execution_count": 30,
   "metadata": {},
   "outputs": [
    {
     "name": "stdout",
     "output_type": "stream",
     "text": [
      "16×2×2 Array{Float64,3}: [1.35782 1.32199; 0.263657 1.10136; -0.420714 -1.46789; 0.467772 -0.835878; 0.692382 1.38424; 0.0608289 0.725237; -0.20495 -0.483476; -0.0732224 0.239878; -0.610079 0.0717458; 1.01546 -0.306301; -0.815129 1.05422; 1.91981 -0.111385; -1.90555 -0.579125; 0.377989 -1.59038; 1.33126 -1.55323; -0.161378 0.432045]\n",
      "\n",
      "[-0.3844 1.58293; -0.09516 0.0471297; 1.9647 0.988176; -0.423259 -1.2285; 2.02706 0.857205; -0.530966 0.612464; 2.32568 1.37652; -1.00222 0.13212; 1.18503 0.645003; 1.26622 0.0645047; 0.382071 0.832926; -1.67032 -1.03153; 0.752933 0.793641; -0.61121 1.85172; 0.855358 -0.259588; 0.746223 0.154208]\n",
      "\n",
      "16×2 Array{Float64,2}: [1.35782 1.32199; 0.263657 1.10136; -0.420714 -1.46789; 0.467772 -0.835878; 0.692382 1.38424; 0.0608289 0.725237; -0.20495 -0.483476; -0.0732224 0.239878; -0.610079 0.0717458; 1.01546 -0.306301; -0.815129 1.05422; 1.91981 -0.111385; -1.90555 -0.579125; 0.377989 -1.59038; 1.33126 -1.55323; -0.161378 0.432045]\n",
      "\n",
      "16×2 Array{Float64,2}: [1.32199 1.58293; 1.10136 0.0471297; -1.46789 0.988176; -0.835878 -1.2285; 1.38424 0.857205; 0.725237 0.612464; -0.483476 1.37652; 0.239878 0.13212; 0.0717458 0.645003; -0.306301 0.0645047; 1.05422 0.832926; -0.111385 -1.03153; -0.579125 0.793641; -1.59038 1.85172; -1.55323 -0.259588; 0.432045 0.154208]\n"
     ]
    }
   ],
   "source": [
    "printsum(d)\n",
    "println()\n",
    "\n",
    "# holds dim 3 fixed and displays the resulting view\n",
    "d3 = d[:,:,1] \n",
    "printsum(d3)\n",
    "println()\n",
    "\n",
    "# that's a 2x1x2 array. not very intuititive to look at\n",
    "d4 = d[:,2,:]  \n",
    "printsum(d4)"
   ]
  }
 ],
 "metadata": {
  "kernelspec": {
   "display_name": "Julia 0.6.0",
   "language": "julia",
   "name": "julia-0.6"
  },
  "language_info": {
   "file_extension": ".jl",
   "mimetype": "application/julia",
   "name": "julia",
   "version": "0.6.0"
  }
 },
 "nbformat": 4,
 "nbformat_minor": 2
}
