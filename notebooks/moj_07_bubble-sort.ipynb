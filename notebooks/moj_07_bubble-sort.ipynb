{
 "cells": [
  {
   "cell_type": "markdown",
   "metadata": {},
   "source": [
    "# The bubble sort\n",
    "### lets create a little sorting method.\n",
    "The bubble sort is a simple sorting algorithm that repeatedly steps through the list to be sorted, compares each pair of adjacent items and swaps them if they are in the wrong order. The pass through the list is repeated until no swaps are needed, which indicates that the list is sorted.\n",
    "![bubble](https://cdn-images-1.medium.com/max/600/1*iAZJF0JvQrFDnDxri88bGQ.gif)\n",
    "![bubble 2](https://33.media.tumblr.com/629abedbc9eb24acc86a740d47ec92ee/tumblr_n9rgwaKxA81tiarloo1_400.gif)\n",
    "## The Method"
   ]
  },
  {
   "cell_type": "code",
   "execution_count": 59,
   "metadata": {},
   "outputs": [
    {
     "data": {
      "text/plain": [
       "bubble_sort (generic function with 3 methods)"
      ]
     },
     "execution_count": 59,
     "metadata": {},
     "output_type": "execute_result"
    }
   ],
   "source": [
    "# Bubble Sort Program\n",
    "# Bubble Sort takes an array as an input and returns the sorted array by default in ascending order.\n",
    "#\tPre-Conditions - Array must contain elements of integer type only.\n",
    "#\t\t\t\t   - By default ascending order is given \n",
    "\n",
    "# Bubble_Sort(Array_Orig) --> Standard Function Call\n",
    "\n",
    "function bubble_sort(Array_Orig)\n",
    "    #create a new array so we don't destroy the old one.\n",
    "    Array = Array_Orig\n",
    "    #set count to 1 to start at first element of the array\n",
    "    count = 1 \n",
    "    \n",
    "    #iterate through the list until we reach the end.\n",
    "    while (count < length(Array))\n",
    "        if (Array[count] > Array[(count+1)])\n",
    "            Array[count], Array[count+1] = Array[count+1], Array[count]\n",
    "            count = 1 #resets index to the beginning\n",
    "        else\n",
    "            count += 1 #sorted already, moving ahead to the next pair.\n",
    "        end\n",
    "    end\n",
    "    \n",
    "    #return the sorted array after the loop is done.\n",
    "    return(Array)\n",
    "end"
   ]
  },
  {
   "cell_type": "markdown",
   "metadata": {},
   "source": [
    "## Testing Time"
   ]
  },
  {
   "cell_type": "code",
   "execution_count": 79,
   "metadata": {},
   "outputs": [
    {
     "name": "stdout",
     "output_type": "stream",
     "text": [
      "[0, 2, 3, 3, 3, 4, 5, 5, 5, 6, 6, 6, 7, 8, 8, 9, 9, 9]\n",
      "\u001b[1m\u001b[32mTest Passed\n",
      "\u001b[39m\u001b[22m\n",
      "  0.000272 seconds (4 allocations: 160 bytes)\n",
      "[0.00570887, 0.00743711, 0.0090973, 0.0110031, 0.0120232, 0.0344967, 0.0345014, 0.0396441, 0.0416448, 0.0520284, 0.0555573, 0.0581572, 0.088531, 0.103795, 0.11562, 0.129396, 0.151864, 0.15951, 0.164617, 0.167905, 0.169495, 0.172826, 0.186865, 0.19445, 0.196846, 0.204362, 0.205627, 0.225385, 0.244976, 0.245149, 0.249151, 0.250545, 0.271789, 0.274015, 0.286239, 0.289074, 0.299089, 0.310399, 0.319899, 0.327871, 0.335285, 0.341729, 0.346976, 0.352227, 0.363629, 0.394575, 0.394687, 0.395707, 0.395875, 0.40562, 0.4075, 0.410487, 0.422302, 0.429882, 0.433073, 0.441331, 0.445738, 0.452753, 0.457654, 0.464311, 0.464751, 0.467181, 0.482243, 0.482936, 0.485022, 0.491813, 0.494288, 0.494609, 0.49969, 0.501705, 0.509765, 0.513658, 0.517586, 0.52137, 0.521542, 0.525705, 0.530405, 0.534213, 0.540094, 0.540809, 0.548047, 0.55293, 0.554183, 0.562974, 0.567335, 0.58081, 0.588579, 0.604618, 0.616326, 0.620379, 0.654115, 0.681392, 0.689535, 0.692918, 0.695662, 0.710645, 0.710886, 0.720541, 0.73274, 0.746399, 0.748694, 0.760603, 0.764292, 0.764387, 0.794829, 0.804166, 0.809815, 0.810295, 0.838281, 0.84233, 0.846684, 0.851504, 0.860314, 0.863174, 0.867239, 0.873967, 0.918399, 0.936998, 0.937205, 0.939524, 0.939525, 0.943418, 0.943805, 0.953252, 0.956303, 0.967358, 0.977458, 0.993162]\n",
      "  0.000006 seconds (6 allocations: 1.375 KiB)\n",
      "[0.00570887, 0.00743711, 0.0090973, 0.0110031, 0.0120232, 0.0344967, 0.0345014, 0.0396441, 0.0416448, 0.0520284, 0.0555573, 0.0581572, 0.088531, 0.103795, 0.11562, 0.129396, 0.151864, 0.15951, 0.164617, 0.167905, 0.169495, 0.172826, 0.186865, 0.19445, 0.196846, 0.204362, 0.205627, 0.225385, 0.244976, 0.245149, 0.249151, 0.250545, 0.271789, 0.274015, 0.286239, 0.289074, 0.299089, 0.310399, 0.319899, 0.327871, 0.335285, 0.341729, 0.346976, 0.352227, 0.363629, 0.394575, 0.394687, 0.395707, 0.395875, 0.40562, 0.4075, 0.410487, 0.422302, 0.429882, 0.433073, 0.441331, 0.445738, 0.452753, 0.457654, 0.464311, 0.464751, 0.467181, 0.482243, 0.482936, 0.485022, 0.491813, 0.494288, 0.494609, 0.49969, 0.501705, 0.509765, 0.513658, 0.517586, 0.52137, 0.521542, 0.525705, 0.530405, 0.534213, 0.540094, 0.540809, 0.548047, 0.55293, 0.554183, 0.562974, 0.567335, 0.58081, 0.588579, 0.604618, 0.616326, 0.620379, 0.654115, 0.681392, 0.689535, 0.692918, 0.695662, 0.710645, 0.710886, 0.720541, 0.73274, 0.746399, 0.748694, 0.760603, 0.764292, 0.764387, 0.794829, 0.804166, 0.809815, 0.810295, 0.838281, 0.84233, 0.846684, 0.851504, 0.860314, 0.863174, 0.867239, 0.873967, 0.918399, 0.936998, 0.937205, 0.939524, 0.939525, 0.943418, 0.943805, 0.953252, 0.956303, 0.967358, 0.977458, 0.993162]\n",
      "\u001b[1m\u001b[32mTest Passed\n",
      "\u001b[39m\u001b[22m\n"
     ]
    }
   ],
   "source": [
    "#Testing:\n",
    "\n",
    "#starting with a simple list of ints\n",
    "myList = [2,5,6,3,4,3,5,7,8,9,5,3,6,8,9,0,6,9]\n",
    "println(bubble_sort(myList))\n",
    "\n",
    "\n",
    "#lets compare to the builtin method sorted\n",
    "using Base.Test\n",
    "println(@test bubble_sort(myList) == sort(myList))\n",
    "\n",
    "# create an array of 128 random Float64's\n",
    "myList = rand(128)\n",
    "#> 64-element Array{Float64,1}\n",
    "\n",
    "println(@time(bubble_sort(myList)))\n",
    "#> 0.000259 seconds (4 allocations: 160 bytes)\n",
    "println(@time(sort(myList)))\n",
    "#> 0.000006 seconds (6 allocations: 1.375 KiB)\n",
    "println(@test bubble_sort(myList) == sort(myList))\n"
   ]
  }
 ],
 "metadata": {
  "kernelspec": {
   "display_name": "Julia 0.6.0",
   "language": "julia",
   "name": "julia-0.6"
  },
  "language_info": {
   "file_extension": ".jl",
   "mimetype": "application/julia",
   "name": "julia",
   "version": "0.6.0"
  }
 },
 "nbformat": 4,
 "nbformat_minor": 2
}
