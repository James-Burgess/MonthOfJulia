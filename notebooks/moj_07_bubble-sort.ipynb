{
 "cells": [
  {
   "cell_type": "markdown",
   "metadata": {},
   "source": [
    "# The bubble sort\n",
    "### lets create a little sorting method.\n",
    "The bubble sort is a simple sorting algorithm that repeatedly steps through the list to be sorted, compares each pair of adjacent items and swaps them if they are in the wrong order. The pass through the list is repeated until no swaps are needed, which indicates that the list is sorted.\n",
    "![bubble](https://cdn-images-1.medium.com/max/600/1*iAZJF0JvQrFDnDxri88bGQ.gif)\n",
    "![bubble 2](https://33.media.tumblr.com/629abedbc9eb24acc86a740d47ec92ee/tumblr_n9rgwaKxA81tiarloo1_400.gif)\n",
    "## The Method"
   ]
  },
  {
   "cell_type": "code",
   "execution_count": 6,
   "metadata": {},
   "outputs": [
    {
     "data": {
      "text/plain": [
       "bubble_sort (generic function with 1 method)"
      ]
     },
     "execution_count": 6,
     "metadata": {},
     "output_type": "execute_result"
    }
   ],
   "source": [
    "# Bubble Sort Program\n",
    "# Bubble Sort takes an array as an input and returns the sorted array by default in ascending order.\n",
    "#\tPre-Conditions - Array must contain elements of integer type only.\n",
    "#\t\t\t\t   - By default ascending order is given \n",
    "\n",
    "# Bubble_Sort(Array_Orig) --> Standard Function Call\n",
    "\n",
    "function bubble_sort(Array_Orig)\n",
    "    #create a new array so we don't destroy the old one.\n",
    "    Array = Array_Orig\n",
    "    #set count to 1 to start at first element of the array\n",
    "    count = 1 \n",
    "    len = length(Array)\n",
    "    #iterate through the list until we reach the end.\n",
    "    while (count < len)\n",
    "        if (Array[count] > Array[(count+1)])\n",
    "            Array[count], Array[count+1] = Array[count+1], Array[count]\n",
    "            count = 1 #resets index to the beginning \n",
    "            #after testing, ive realised this reset needs to be optomised\n",
    "        else\n",
    "            count += 1 #sorted already, moving ahead to the next pair.\n",
    "        end\n",
    "    end\n",
    "    \n",
    "    #return the sorted array after the loop is done.\n",
    "    return(Array)\n",
    "end"
   ]
  },
  {
   "cell_type": "markdown",
   "metadata": {},
   "source": [
    "## Testing Time"
   ]
  },
  {
   "cell_type": "code",
   "execution_count": 7,
   "metadata": {
    "scrolled": true
   },
   "outputs": [
    {
     "name": "stdout",
     "output_type": "stream",
     "text": [
      "[0, 2, 3, 3, 3, 4, 5, 5, 5, 6, 6, 6, 7, 8, 8, 9, 9, 9]\n",
      "\u001b[1m\u001b[32mTest Passed\n",
      "\u001b[39m\u001b[22m\n",
      "  0.006158 seconds (1.59 k allocations: 88.008 KiB)\n",
      "[0.00442384, 0.0052457, 0.00854068, 0.00877842, 0.0129592, 0.018149, 0.0194757, 0.0236115, 0.0467259, 0.0506084, 0.0651271, 0.079907, 0.11816, 0.123506, 0.126669, 0.135717, 0.14315, 0.146408, 0.153044, 0.156164, 0.158084, 0.177088, 0.178837, 0.189319, 0.213717, 0.218862, 0.227375, 0.239378, 0.241264, 0.25042, 0.251535, 0.253367, 0.268264, 0.271349, 0.294978, 0.311402, 0.3267, 0.327587, 0.330044, 0.338383, 0.367275, 0.370218, 0.394278, 0.396266, 0.396594, 0.399382, 0.405023, 0.408699, 0.409434, 0.410305, 0.41542, 0.418344, 0.437478, 0.442251, 0.444524, 0.444905, 0.458565, 0.469233, 0.473067, 0.487025, 0.489661, 0.494772, 0.497623, 0.498387, 0.499816, 0.501289, 0.502717, 0.509791, 0.513598, 0.518173, 0.520564, 0.522174, 0.525074, 0.528897, 0.551794, 0.55492, 0.566032, 0.582354, 0.586823, 0.587536, 0.590201, 0.592012, 0.595318, 0.602956, 0.61338, 0.615556, 0.615568, 0.624585, 0.625123, 0.6303, 0.633513, 0.637846, 0.651191, 0.658605, 0.660756, 0.670272, 0.696435, 0.711661, 0.725607, 0.726267, 0.742607, 0.750749, 0.756454, 0.784215, 0.808283, 0.808503, 0.83518, 0.838022, 0.841367, 0.85246, 0.854277, 0.86122, 0.869107, 0.870385, 0.893089, 0.911485, 0.913704, 0.914677, 0.930176, 0.943703, 0.956812, 0.970477, 0.970639, 0.97481, 0.974992, 0.989607, 0.996052, 0.999322]\n",
      "  0.000005 seconds (6 allocations: 1.375 KiB)\n",
      "[0.00442384, 0.0052457, 0.00854068, 0.00877842, 0.0129592, 0.018149, 0.0194757, 0.0236115, 0.0467259, 0.0506084, 0.0651271, 0.079907, 0.11816, 0.123506, 0.126669, 0.135717, 0.14315, 0.146408, 0.153044, 0.156164, 0.158084, 0.177088, 0.178837, 0.189319, 0.213717, 0.218862, 0.227375, 0.239378, 0.241264, 0.25042, 0.251535, 0.253367, 0.268264, 0.271349, 0.294978, 0.311402, 0.3267, 0.327587, 0.330044, 0.338383, 0.367275, 0.370218, 0.394278, 0.396266, 0.396594, 0.399382, 0.405023, 0.408699, 0.409434, 0.410305, 0.41542, 0.418344, 0.437478, 0.442251, 0.444524, 0.444905, 0.458565, 0.469233, 0.473067, 0.487025, 0.489661, 0.494772, 0.497623, 0.498387, 0.499816, 0.501289, 0.502717, 0.509791, 0.513598, 0.518173, 0.520564, 0.522174, 0.525074, 0.528897, 0.551794, 0.55492, 0.566032, 0.582354, 0.586823, 0.587536, 0.590201, 0.592012, 0.595318, 0.602956, 0.61338, 0.615556, 0.615568, 0.624585, 0.625123, 0.6303, 0.633513, 0.637846, 0.651191, 0.658605, 0.660756, 0.670272, 0.696435, 0.711661, 0.725607, 0.726267, 0.742607, 0.750749, 0.756454, 0.784215, 0.808283, 0.808503, 0.83518, 0.838022, 0.841367, 0.85246, 0.854277, 0.86122, 0.869107, 0.870385, 0.893089, 0.911485, 0.913704, 0.914677, 0.930176, 0.943703, 0.956812, 0.970477, 0.970639, 0.97481, 0.974992, 0.989607, 0.996052, 0.999322]\n",
      "\u001b[1m\u001b[32mTest Passed\n",
      "\u001b[39m\u001b[22m\n"
     ]
    }
   ],
   "source": [
    "#Testing:\n",
    "\n",
    "#starting with a simple list of ints\n",
    "myList = [2,5,6,3,4,3,5,7,8,9,5,3,6,8,9,0,6,9]\n",
    "println(bubble_sort(myList))\n",
    "\n",
    "\n",
    "#lets compare to the builtin method sorted\n",
    "using Base.Test\n",
    "println(@test bubble_sort(myList) == sort(myList))\n",
    "\n",
    "# create an array of 128 random Float64's\n",
    "myList = rand(128)\n",
    "#> 64-element Array{Float64,1}\n",
    "\n",
    "println(@time(bubble_sort(myList)))\n",
    "#> 0.000259 seconds (4 allocations: 160 bytes)\n",
    "println(@time(sort(myList)))\n",
    "#> 0.000006 seconds (6 allocations: 1.375 KiB)\n",
    "println(@test bubble_sort(myList) == sort(myList))\n"
   ]
  },
  {
   "cell_type": "markdown",
   "metadata": {},
   "source": [
    "## Is this fast?\n",
    "While doing some more research on the bubble sort, I came arcoss the fact that the bubble should actually be implemented with a nested for-loop, I shall implement the correct method below and test the times to see which is better."
   ]
  },
  {
   "cell_type": "code",
   "execution_count": 11,
   "metadata": {},
   "outputs": [
    {
     "data": {
      "text/plain": [
       "other_bubble_sort (generic function with 1 method)"
      ]
     },
     "execution_count": 11,
     "metadata": {},
     "output_type": "execute_result"
    }
   ],
   "source": [
    "function other_bubble_sort(Array_orig)\n",
    "    Array = Array_orig\n",
    "    y =length(Array)\n",
    "    for i in 1:y\n",
    "        for j in 1:(y-1)\n",
    "            if (Array[j] > Array[j+1])\n",
    "                Array[j], Array[j+1] = Array[j+1], Array[j]\n",
    "            end\n",
    "        end\n",
    "    end\n",
    "    return(Array)\n",
    "end"
   ]
  },
  {
   "cell_type": "code",
   "execution_count": 12,
   "metadata": {},
   "outputs": [
    {
     "name": "stdout",
     "output_type": "stream",
     "text": [
      "\u001b[1m\u001b[32mTest Passed\n",
      "\u001b[39m\u001b[22m\n"
     ]
    }
   ],
   "source": [
    "myList = rand(8)\n",
    "println(@test other_bubble_sort(myList) == sort(myList))"
   ]
  },
  {
   "cell_type": "code",
   "execution_count": 32,
   "metadata": {},
   "outputs": [
    {
     "name": "stdout",
     "output_type": "stream",
     "text": [
      "other\n",
      "  0.000170 seconds (1 allocation: 2.125 KiB)\n",
      "  0.000138 seconds (1 allocation: 2.125 KiB)\n",
      "  0.000151 seconds (1 allocation: 2.125 KiB)\n",
      "  0.000115 seconds (1 allocation: 2.125 KiB)\n",
      "  0.000115 seconds (1 allocation: 2.125 KiB)\n",
      "  0.000133 seconds (1 allocation: 2.125 KiB)\n",
      "  0.000104 seconds (1 allocation: 2.125 KiB)\n",
      "  0.000103 seconds (1 allocation: 2.125 KiB)\n",
      "  0.000104 seconds (1 allocation: 2.125 KiB)\n",
      "  0.000105 seconds (1 allocation: 2.125 KiB)\n",
      "mine\n",
      "  0.001997 seconds (1 allocation: 2.125 KiB)\n",
      "  0.001989 seconds (1 allocation: 2.125 KiB)\n",
      "  0.001790 seconds (1 allocation: 2.125 KiB)\n",
      "  0.001895 seconds (1 allocation: 2.125 KiB)\n",
      "  0.001877 seconds (1 allocation: 2.125 KiB)\n",
      "  0.001864 seconds (1 allocation: 2.125 KiB)\n",
      "  0.001843 seconds (1 allocation: 2.125 KiB)\n",
      "  0.001936 seconds (1 allocation: 2.125 KiB)\n",
      "  0.001872 seconds (1 allocation: 2.125 KiB)\n",
      "  0.001978 seconds (1 allocation: 2.125 KiB)\n"
     ]
    },
    {
     "data": {
      "text/plain": [
       "10-element Array{Array{Float64,1},1}:\n",
       " [0.00452848, 0.00843308, 0.0169429, 0.0174911, 0.022027, 0.0283529, 0.0284395, 0.0382906, 0.0385829, 0.0414875  …  0.962614, 0.962828, 0.964976, 0.966015, 0.971845, 0.985016, 0.985175, 0.994563, 0.995027, 0.997924]    \n",
       " [0.000283188, 0.00317138, 0.00325565, 0.00402214, 0.00948302, 0.0149681, 0.026422, 0.0347683, 0.0392115, 0.0417657  …  0.971363, 0.971498, 0.972186, 0.973872, 0.989338, 0.993539, 0.994828, 0.994914, 0.998058, 0.999786]\n",
       " [0.00723286, 0.0072629, 0.0195666, 0.0210598, 0.0286436, 0.0308145, 0.0360086, 0.039145, 0.0418636, 0.0434357  …  0.965306, 0.968799, 0.969231, 0.977362, 0.981628, 0.985856, 0.988819, 0.99228, 0.993892, 0.99542]       \n",
       " [0.000950617, 0.00974814, 0.0139069, 0.0183672, 0.0195964, 0.0198126, 0.0306752, 0.0329584, 0.042627, 0.0460731  …  0.963437, 0.963784, 0.971798, 0.973693, 0.977325, 0.987729, 0.988299, 0.991193, 0.992923, 0.994277]   \n",
       " [0.00223149, 0.00257557, 0.00362133, 0.00560092, 0.00999571, 0.0111655, 0.0166884, 0.018871, 0.0207288, 0.0266794  …  0.960721, 0.964819, 0.965555, 0.972014, 0.972558, 0.976849, 0.989312, 0.989923, 0.992023, 0.99779]  \n",
       " [0.0120717, 0.0173231, 0.0246726, 0.0270017, 0.0351778, 0.0364884, 0.0366456, 0.0447689, 0.0470053, 0.0479243  …  0.9688, 0.970446, 0.975307, 0.978988, 0.981618, 0.982466, 0.991756, 0.993184, 0.998038, 0.999908]       \n",
       " [0.00346746, 0.00609967, 0.0113733, 0.0170964, 0.0190613, 0.0196423, 0.0198693, 0.0205159, 0.0208686, 0.027315  …  0.953284, 0.953408, 0.958687, 0.962396, 0.970087, 0.973347, 0.9814, 0.981526, 0.995438, 0.999881]      \n",
       " [0.0019389, 0.00216295, 0.00619956, 0.00782794, 0.0146156, 0.0204985, 0.0259964, 0.0284789, 0.0448794, 0.0475831  …  0.957277, 0.95906, 0.962888, 0.963821, 0.972577, 0.974786, 0.98677, 0.991572, 0.992686, 0.995179]    \n",
       " [0.0118453, 0.0146914, 0.0257255, 0.0283004, 0.043251, 0.0560761, 0.0567366, 0.0636488, 0.0671248, 0.0702401  …  0.956775, 0.969216, 0.971541, 0.972732, 0.976559, 0.98077, 0.981398, 0.984506, 0.98745, 0.994393]        \n",
       " [0.0019934, 0.0135139, 0.0183524, 0.0202186, 0.0284407, 0.0310555, 0.0319167, 0.033233, 0.0425234, 0.0594563  …  0.944643, 0.945264, 0.961929, 0.962421, 0.964083, 0.985878, 0.98819, 0.991709, 0.996699, 0.997667]       "
      ]
     },
     "execution_count": 32,
     "metadata": {},
     "output_type": "execute_result"
    }
   ],
   "source": [
    "#a little head to head.\n",
    "println(\"other\")\n",
    "time = [@time(other_bubble_sort(rand(256))) for x=1:10]\n",
    "#>0.000107 seconds (1 allocation: 2.125 KiB)\n",
    "\n",
    "println(\"mine\")\n",
    "time = [@time(bubble_sort(rand(256))) for x=1:10]\n",
    "#>0.001920 seconds (1 allocation: 2.125 KiB)"
   ]
  },
  {
   "cell_type": "code",
   "execution_count": 30,
   "metadata": {
    "scrolled": true
   },
   "outputs": [
    {
     "ename": "LoadError",
     "evalue": "\u001b[91mArgumentError: Module BenchmarkTools not found in current path.\nRun `Pkg.add(\"BenchmarkTools\")` to install the BenchmarkTools package.\u001b[39m",
     "output_type": "error",
     "traceback": [
      "\u001b[91mArgumentError: Module BenchmarkTools not found in current path.\nRun `Pkg.add(\"BenchmarkTools\")` to install the BenchmarkTools package.\u001b[39m",
      "",
      "Stacktrace:",
      " [1] \u001b[1m_require\u001b[22m\u001b[22m\u001b[1m(\u001b[22m\u001b[22m::Symbol\u001b[1m)\u001b[22m\u001b[22m at \u001b[1m./loading.jl:428\u001b[22m\u001b[22m",
      " [2] \u001b[1mrequire\u001b[22m\u001b[22m\u001b[1m(\u001b[22m\u001b[22m::Symbol\u001b[1m)\u001b[22m\u001b[22m at \u001b[1m./loading.jl:398\u001b[22m\u001b[22m"
     ]
    }
   ],
   "source": [
    "using BenchmarkTools\n",
    "println(@benchmark(bubble_sort(rand(256))))\n",
    "println(@benchmark(other_bubble_sort(rand(256))))"
   ]
  },
  {
   "cell_type": "markdown",
   "metadata": {},
   "source": [
    "It seems the while loop implementation is much slower and I suspect it is due to the count being reset to 0 each time so the method has to start from the beginning each time reaching a much higher time complexity that the 0[n^2] of the nested for implementation. \n",
    "<br>\n",
    "Implementing the other solution has helped me understand the bubble sort much more though, Im glad i decided to look further into this."
   ]
  },
  {
   "cell_type": "code",
   "execution_count": null,
   "metadata": {},
   "outputs": [],
   "source": []
  }
 ],
 "metadata": {
  "kernelspec": {
   "display_name": "Julia 0.6.0",
   "language": "julia",
   "name": "julia-0.6"
  },
  "language_info": {
   "file_extension": ".jl",
   "mimetype": "application/julia",
   "name": "julia",
   "version": "0.6.0"
  }
 },
 "nbformat": 4,
 "nbformat_minor": 2
}
