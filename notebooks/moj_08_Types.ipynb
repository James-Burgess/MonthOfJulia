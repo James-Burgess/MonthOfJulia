{
 "cells": [
  {
   "cell_type": "markdown",
   "metadata": {},
   "source": [
    "# [Types](https://docs.julialang.org/en/release-0.6/manual/types/)\n",
    "[![Video: Just My Type - Saint Motel](https://www.youtube.com/embed/IyVPyKrx0Xo)](https://www.youtube.com/embed/IyVPyKrx0Xo)\n",
    "<br>\n",
    "Types are a way of classifing datum in memory, allowing the complier to understand what data it is using can lead to much higher efficency, Julia will, by default, assign the type any to an untyped object in memory, this means that julia will allow polymorphism on objects but your speeds and rhobustness will greatly improve when you start typing objects and perhaps somewhat counterintuitively, often significantly simplify them.\n",
    "<br>\n",
    "<br>\n",
    "Describing Julia in the lingo of [type systems](https://en.wikipedia.org/wiki/Type_system), it is: dynamic, nominative and parametric. Generic types can be parameterized, and the hierarchical relationships between types are explicitly declared, rather than implied by compatible structure. One particularly distinctive feature of Julia's type system is that concrete types may not subtype each other: all concrete types are final and may only have abstract types as their supertypes.\n",
    "<br>\n",
    "Other high-level aspects of Julia's type system that should be mentioned up front are:\n",
    "1.   There is no division between object and non-object values: all values in Julia are true objects having a type that belongs to a single, fully connected type graph, all nodes of which are equally first-class as types.\n",
    "\n",
    "1.    There is no meaningful concept of a \"compile-time type\": the only type a value has is its actual type when the program is running. This is called a \"run-time type\" in object-oriented languages where the combination of static compilation with polymorphism makes this distinction significant.\n",
    "\n",
    "1.    Only values, not variables, have types – variables are simply names bound to values.\n",
    "\n",
    "1.    Both abstract and concrete types can be parameterized by other types. They can also be parameterized by symbols, by values of any type for which isbits() returns true (essentially, things like numbers and bools that are stored like C types or structs with no pointers to other objects), and also by tuples thereof. Type parameters may be omitted when they do not need to be referenced or restricted.\n",
    "<br>\n",
    "Julia's type system is designed to be powerful and expressive, yet clear, intuitive and unobtrusive. Many Julia programmers may never feel the need to write code that explicitly uses types. Some kinds of programming, however, become clearer, simpler, faster and more robust with declared types.\n",
    "<br>\n",
    "<br>\n",
    "## Declaring Types"
   ]
  },
  {
   "cell_type": "code",
   "execution_count": 29,
   "metadata": {},
   "outputs": [
    {
     "name": "stdout",
     "output_type": "stream",
     "text": [
      "3\n"
     ]
    }
   ],
   "source": [
    "#types are declared with the '::' operator to attach type annotations to expressions\n",
    "#There are two primary reasons to do this:\n",
    "#    As an assertion to help confirm that your program works the way you expect,\n",
    "#    To provide extra type information to the compiler, which can then improve performance in some cases\n",
    "\n",
    "#declare 3 as an Int64\n",
    "println((1+2)::Int64)\n",
    "#>3"
   ]
  },
  {
   "cell_type": "code",
   "execution_count": 30,
   "metadata": {},
   "outputs": [
    {
     "ename": "LoadError",
     "evalue": "\u001b[91mTypeError: typeassert: expected Float64, got Int64\u001b[39m",
     "output_type": "error",
     "traceback": [
      "\u001b[91mTypeError: typeassert: expected Float64, got Int64\u001b[39m",
      ""
     ]
    }
   ],
   "source": [
    "#attempt to assign 3 to a float value\n",
    "println((1+2)::Float64)\n",
    "#>TypeError: typeassert: expected Float64, got Int64"
   ]
  },
  {
   "cell_type": "markdown",
   "metadata": {},
   "source": [
    "When appended to a variable on the left-hand side of an assignment, or as part of a local declaration, the :: operator means something a bit different: it declares the variable to always have the specified type, like a type declaration in a statically-typed language such as C. Every value assigned to the variable will be converted to the declared type using convert():\n",
    "<br>\n",
    "be aware that this is not yet avaialabe on global vars\n",
    "#>type declarations on global variables are not yet supported\n"
   ]
  },
  {
   "cell_type": "code",
   "execution_count": 13,
   "metadata": {},
   "outputs": [
    {
     "ename": "LoadError",
     "evalue": "\u001b[91msyntax: type declarations on global variables are not yet supported\u001b[39m",
     "output_type": "error",
     "traceback": [
      "\u001b[91msyntax: type declarations on global variables are not yet supported\u001b[39m",
      ""
     ]
    }
   ],
   "source": [
    "#attempting on a glob\n",
    "x::Int8 = 100::Int64\n",
    "#>type declarations on global variables are not yet supported"
   ]
  },
  {
   "cell_type": "markdown",
   "metadata": {},
   "source": [
    "But that doesn't mean we can't keep it local boet"
   ]
  },
  {
   "cell_type": "code",
   "execution_count": 14,
   "metadata": {},
   "outputs": [
    {
     "data": {
      "text/plain": [
       "foo (generic function with 1 method)"
      ]
     },
     "execution_count": 14,
     "metadata": {},
     "output_type": "execute_result"
    }
   ],
   "source": [
    "#create function to create our var\n",
    "function foo()\n",
    "           x::Int8 = 100::Int64 #Int64 is converted to int8 using convert()\n",
    "           x\n",
    "end"
   ]
  },
  {
   "cell_type": "code",
   "execution_count": 32,
   "metadata": {},
   "outputs": [
    {
     "name": "stdout",
     "output_type": "stream",
     "text": [
      "100\n"
     ]
    }
   ],
   "source": [
    "#call foo\n",
    "println(foo())\n",
    "#>100"
   ]
  },
  {
   "cell_type": "code",
   "execution_count": 31,
   "metadata": {},
   "outputs": [
    {
     "name": "stdout",
     "output_type": "stream",
     "text": [
      "Int8\n"
     ]
    }
   ],
   "source": [
    "#find what type foo is:\n",
    "println(typeof(foo()))\n",
    "#>Int8"
   ]
  },
  {
   "cell_type": "markdown",
   "metadata": {},
   "source": [
    "Declartions can also be attached to function definitions"
   ]
  },
  {
   "cell_type": "code",
   "execution_count": 16,
   "metadata": {},
   "outputs": [
    {
     "data": {
      "text/plain": [
       "sinc (generic function with 1 method)"
      ]
     },
     "execution_count": 16,
     "metadata": {},
     "output_type": "execute_result"
    }
   ],
   "source": [
    "function sinc(x)::Float64\n",
    "    #Summary:: Sinc is used in signal processing https://en.wikipedia.org/wiki/Sinc_function\n",
    "    if x == 0\n",
    "        return 1\n",
    "    end\n",
    "    return sin(pi*x)/(pi*x)\n",
    "end"
   ]
  },
  {
   "cell_type": "markdown",
   "metadata": {},
   "source": [
    "Returning from this function behaves just like an assignment to a variable with a declared type: the value is always converted to Float64."
   ]
  },
  {
   "cell_type": "code",
   "execution_count": 17,
   "metadata": {},
   "outputs": [
    {
     "data": {
      "text/plain": [
       "-3.8981718325193755e-17"
      ]
     },
     "execution_count": 17,
     "metadata": {},
     "output_type": "execute_result"
    }
   ],
   "source": [
    "sinc(64)\n",
    "#>-3.8981718325193755e-17"
   ]
  },
  {
   "cell_type": "markdown",
   "metadata": {},
   "source": [
    "## Concrete and abstract types\n",
    "### The types that can have subtypes (e.g. Any, Number) are called abstract types.\n",
    "Types can have a Bounding class that will encompass all of them known as an abstract type, this is the parent of all of subtypes below. ie NUMBER is the abstract type of Float64(concrete). Therefore we cannot have a object of type Number, since it's an abstract type. In other words, only the leaves of the type tree are concrete types and can be instantiated.\n",
    "<br><br>\n",
    "If we can't create objects of abstract types, why are they useful? With them, we can write code that generalizes for any of its subtypes. For instance, suppose we write a function that expects a variable of the type Number:"
   ]
  },
  {
   "cell_type": "code",
   "execution_count": 18,
   "metadata": {},
   "outputs": [
    {
     "data": {
      "text/plain": [
       "plus_one (generic function with 1 method)"
      ]
     },
     "execution_count": 18,
     "metadata": {},
     "output_type": "execute_result"
    }
   ],
   "source": [
    "function plus_one(n::Number)\n",
    "    #Summary:: this function gets a number, and returns the same number plus one\n",
    "    return n + 1\n",
    "end"
   ]
  },
  {
   "cell_type": "markdown",
   "metadata": {},
   "source": [
    "No matter if n's type is Int (Integer number) or Float64 (floating-point number), the function plus_one() will work correctly. Furthermore, plus_one() will not work with any types that are not subtypes of Number (e.g. text strings, arrays)."
   ]
  },
  {
   "cell_type": "code",
   "execution_count": 25,
   "metadata": {},
   "outputs": [
    {
     "name": "stdout",
     "output_type": "stream",
     "text": [
      "14.5645\n",
      "12\n",
      "2\n"
     ]
    },
    {
     "ename": "LoadError",
     "evalue": "\u001b[91mMethodError: no method matching plus_one(::String)\u001b[0m\nClosest candidates are:\n  plus_one(\u001b[91m::Number\u001b[39m) at In[18]:3\u001b[39m",
     "output_type": "error",
     "traceback": [
      "\u001b[91mMethodError: no method matching plus_one(::String)\u001b[0m\nClosest candidates are:\n  plus_one(\u001b[91m::Number\u001b[39m) at In[18]:3\u001b[39m",
      ""
     ]
    }
   ],
   "source": [
    "x = 13.5645::Float64\n",
    "println(plus_one(x))\n",
    "#>14.5645\n",
    "\n",
    "x = 11::Int\n",
    "println(plus_one(x))\n",
    "#>12\n",
    "\n",
    "x = true::Bool\n",
    "println(plus_one(x))\n",
    "#>2\n",
    "\n",
    "x = \"hello\"::String\n",
    "println(plus_one(x))\n",
    "#>MethodError: no method matching plus_one(::String)"
   ]
  },
  {
   "cell_type": "markdown",
   "metadata": {},
   "source": [
    "## Investigating types\n",
    "Julia provides two functions for navigating the type hierarchy: `subtypes()` and `supertype()`."
   ]
  },
  {
   "cell_type": "code",
   "execution_count": 26,
   "metadata": {},
   "outputs": [
    {
     "data": {
      "text/plain": [
       "4-element Array{Union{DataType, UnionAll},1}:\n",
       " BigInt  \n",
       " Bool    \n",
       " Signed  \n",
       " Unsigned"
      ]
     },
     "execution_count": 26,
     "metadata": {},
     "output_type": "execute_result"
    }
   ],
   "source": [
    "subtypes(Integer)"
   ]
  },
  {
   "cell_type": "code",
   "execution_count": 28,
   "metadata": {},
   "outputs": [
    {
     "data": {
      "text/plain": [
       "Real"
      ]
     },
     "execution_count": 28,
     "metadata": {},
     "output_type": "execute_result"
    }
   ],
   "source": [
    "supertype(Integer)"
   ]
  },
  {
   "cell_type": "markdown",
   "metadata": {},
   "source": [
    "More on types tomrrow, I gotta go now and the docs totally just overwhelmed me. \n",
    "<br>\n",
    "See yall tomorrow xx"
   ]
  }
 ],
 "metadata": {
  "kernelspec": {
   "display_name": "Julia 0.6.0",
   "language": "julia",
   "name": "julia-0.6"
  },
  "language_info": {
   "file_extension": ".jl",
   "mimetype": "application/julia",
   "name": "julia",
   "version": "0.6.0"
  }
 },
 "nbformat": 4,
 "nbformat_minor": 2
}
