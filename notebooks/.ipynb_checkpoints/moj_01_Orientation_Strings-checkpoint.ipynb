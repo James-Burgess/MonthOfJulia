{
 "cells": [
  {
   "cell_type": "markdown",
   "metadata": {},
   "source": [
    "# Julia Orientation\n",
    "## Hello World\n",
    "the syntax seems to be based largley on python, with more speed."
   ]
  },
  {
   "cell_type": "code",
   "execution_count": 2,
   "metadata": {},
   "outputs": [
    {
     "name": "stdout",
     "output_type": "stream",
     "text": [
      "Hello World\n"
     ]
    }
   ],
   "source": [
    "println(\"Hello World\")"
   ]
  },
  {
   "cell_type": "markdown",
   "metadata": {},
   "source": [
    "## Functions\n",
    "how cool are those one liners tho?\n",
    "nice to see some type declaration there."
   ]
  },
  {
   "cell_type": "code",
   "execution_count": null,
   "metadata": {},
   "outputs": [],
   "source": [
    "#pretty much python without the dottybois and you have to tjune when its over cause jules is needy\n",
    "function spherevol(r)\n",
    "    return 4/3*pi*r^3\n",
    "end\n",
    "spherevol(30)\n",
    "\n",
    "#sussinct functions with \n",
    "#float64 definitions on args - will only accept float\n",
    "quadratic(a, sqr_term::Float64, b::Float64) = (-b + sqr_term) / 2a\n",
    "\n",
    "quadratic(2.0, -2.0, -12.0)"
   ]
  },
  {
   "cell_type": "markdown",
   "metadata": {},
   "source": [
    "## String Basics\n",
    "### Declartion and Printing"
   ]
  },
  {
   "cell_type": "code",
   "execution_count": 4,
   "metadata": {},
   "outputs": [
    {
     "name": "stdout",
     "output_type": "stream",
     "text": [
      "the quick brown fox jumps over the lazy dog\n",
      "the quick brown fox jumps over the lazy dog\n"
     ]
    }
   ],
   "source": [
    "#Declartion\n",
    "#Double Quotation marks are important\n",
    "s1 = \"the quick brown fox jumps over the lazy dog\"\n",
    "\n",
    "print(s1) #no newline\n",
    "println()\n",
    "println(s1) #appends newline after str\n"
   ]
  },
  {
   "cell_type": "markdown",
   "metadata": {},
   "source": [
    "### Search\n",
    "find things easy and quick with search and replace"
   ]
  },
  {
   "cell_type": "code",
   "execution_count": 5,
   "metadata": {},
   "outputs": [
    {
     "name": "stdout",
     "output_type": "stream",
     "text": [
      "11:15\n",
      "\"the quick red fox jumps over the lazy dog\"\n"
     ]
    }
   ],
   "source": [
    "#search strings\n",
    "i = search(s1, \"brown\")\n",
    "println(i)\n",
    "\n",
    "#string replace\n",
    "r = replace(s1, \"brown\", \"red\")\n",
    "show(r); println()\n"
   ]
  },
  {
   "cell_type": "markdown",
   "metadata": {},
   "source": [
    "### RegExp"
   ]
  },
  {
   "cell_type": "code",
   "execution_count": 6,
   "metadata": {},
   "outputs": [
    {
     "name": "stdout",
     "output_type": "stream",
     "text": [
      "11:15\n",
      "RegexMatch(\"brown\")\n",
      "\"brown\"\n",
      "SubString{String}[\"quick\", \"brown\", \"jumps\", \"over\", \"lazy\"]\n",
      "\"quick\" \n",
      "\"brown\" \n",
      "\"jumps\" \n",
      "\"over\" \n",
      "\"lazy\" \n"
     ]
    }
   ],
   "source": [
    "#we can also do the devils work and do some regex\n",
    "s = search(s1, r\"b[\\w]*n\")\n",
    "println(s)\n",
    "\n",
    "#you can use functions for regex that return \n",
    "#>RegexMatch(\"\")\n",
    "r = match(r\"b[\\w]*n\", s1)\n",
    "println(r)\n",
    "\n",
    "#return just the string\n",
    "show(r.match); println()\n",
    "\n",
    "#find all instances and return a vector\n",
    "r = matchall(r\"[\\w]{4,}\", s1)\n",
    "println(r)\n",
    "\n",
    "#return an iterator over each match\n",
    "r = eachmatch(r\"[\\w]{4,}\", s1)\n",
    "for i in r println(\"\\\"$(i.match)\\\" \") end\n",
    "\n"
   ]
  },
  {
   "cell_type": "markdown",
   "metadata": {},
   "source": [
    "### Repetition \n",
    "a neat trick to repeat yourself repeat yourself."
   ]
  },
  {
   "cell_type": "code",
   "execution_count": 11,
   "metadata": {},
   "outputs": [
    {
     "name": "stdout",
     "output_type": "stream",
     "text": [
      "\"hello hello hello \"\n"
     ]
    }
   ],
   "source": [
    "#strings can be repeated with ^\n",
    "r = \"hello \"^3\n",
    "show(r); println()"
   ]
  },
  {
   "cell_type": "markdown",
   "metadata": {},
   "source": [
    "### Strip\n",
    "comeon baby take off all that whitespace"
   ]
  },
  {
   "cell_type": "code",
   "execution_count": 8,
   "metadata": {},
   "outputs": [
    {
     "name": "stdout",
     "output_type": "stream",
     "text": [
      "\"hello\"\n",
      "ello\n"
     ]
    }
   ],
   "source": [
    "#use strip to remove whitespace\n",
    "r = strip(\" hello \")\n",
    "show(r); println()\n",
    "\n",
    "#you can also pass args to strip other stuff\n",
    "r = strip(\" hello \", ['h', ' '])\n",
    "println(r)"
   ]
  },
  {
   "cell_type": "markdown",
   "metadata": {},
   "source": [
    "### Split\n",
    "break everyhting up into itty bittys"
   ]
  },
  {
   "cell_type": "code",
   "execution_count": 9,
   "metadata": {},
   "outputs": [
    {
     "name": "stdout",
     "output_type": "stream",
     "text": [
      "SubString{String}[\"hello\", \" there\", \"bob\"]\n",
      "SubString{String}[\"hello\", \"there,bob\"]\n",
      "SubString{String}[\"hello\", \"there\", \"bob\"]\n"
     ]
    }
   ],
   "source": [
    "#split works the same as py\n",
    "r = split(\"hello, there,bob\", ',')\n",
    "show(r); println()\n",
    "\n",
    "r = split(\"hello, there,bob\", \", \")\n",
    "show(r); println()\n",
    "\n",
    "#see docs for info on limit and keep but it removes the extra space?\n",
    "r = split(\"hello, there,bob\", [',', ' '], limit=0, keep=false)\n",
    "show(r); println()"
   ]
  },
  {
   "cell_type": "markdown",
   "metadata": {},
   "source": [
    "### Join\n",
    "lets get together?"
   ]
  },
  {
   "cell_type": "code",
   "execution_count": 10,
   "metadata": {},
   "outputs": [
    {
     "name": "stdout",
     "output_type": "stream",
     "text": [
      "[1, 2, 3, 4, 5, 6, 7, 8, 9, 10]\n",
      "\"1, 2, 3, 4, 5, 6, 7, 8, 9, 10\""
     ]
    }
   ],
   "source": [
    "#the opposite of split is join\n",
    "\n",
    "println(collect(1:10))\n",
    "r = join(collect(1:10), \", \")\n",
    "show(r); "
   ]
  }
 ],
 "metadata": {
  "kernelspec": {
   "display_name": "Julia 0.6.0",
   "language": "julia",
   "name": "julia-0.6"
  },
  "language_info": {
   "file_extension": ".jl",
   "mimetype": "application/julia",
   "name": "julia",
   "version": "0.6.0"
  }
 },
 "nbformat": 4,
 "nbformat_minor": 2
}
