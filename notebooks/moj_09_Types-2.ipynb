{
 "cells": [
  {
   "cell_type": "markdown",
   "metadata": {},
   "source": [
    "# Investigating Types\n",
    "## Type Hierarchy \n",
    "![Type Hierachy](https://upload.wikimedia.org/wikipedia/commons/4/40/Type-hierarchy-for-julia-numbers.png)\n",
    "continuing from yesterday, lets investigate the hiearchy of types in Julia"
   ]
  },
  {
   "cell_type": "code",
   "execution_count": 8,
   "metadata": {},
   "outputs": [
    {
     "data": {
      "text/plain": [
       "2-element Array{Union{DataType, UnionAll},1}:\n",
       " Complex\n",
       " Real   "
      ]
     },
     "execution_count": 8,
     "metadata": {},
     "output_type": "execute_result"
    }
   ],
   "source": [
    "# Subtypes will return an array of the children below the type\n",
    "subtypes(Number)\n",
    "#> 2-element Array{Union{DataType, UnionAll},1}:\n",
    "#> Complex\n",
    "#> Real   "
   ]
  },
  {
   "cell_type": "code",
   "execution_count": 10,
   "metadata": {},
   "outputs": [
    {
     "data": {
      "text/plain": [
       "4-element Array{Union{DataType, UnionAll},1}:\n",
       " AbstractFloat\n",
       " Integer      \n",
       " Irrational   \n",
       " Rational     "
      ]
     },
     "execution_count": 10,
     "metadata": {},
     "output_type": "execute_result"
    }
   ],
   "source": [
    "subtypes(Real)\n",
    "#> 4-element Array{Union{DataType, UnionAll},1}:\n",
    "#>  AbstractFloat\n",
    "#>  Integer      \n",
    "#>  Irrational   \n",
    "#>  Rational     "
   ]
  },
  {
   "cell_type": "code",
   "execution_count": 15,
   "metadata": {},
   "outputs": [
    {
     "name": "stdout",
     "output_type": "stream",
     "text": [
      "Union{DataType, UnionAll}[BigFloat, Float16, Float32, Float64]\n",
      "Union{DataType, UnionAll}[BigInt, Bool, Signed, Unsigned]\n"
     ]
    }
   ],
   "source": [
    "println(subtypes(AbstractFloat))\n",
    "#>Union{DataType, UnionAll}[BigFloat, Float16, Float32, Float64]\n",
    "\n",
    "println(subtypes(Integer))\n",
    "#>Union{DataType, UnionAll}[BigInt, Bool, Signed, Unsigned]"
   ]
  },
  {
   "cell_type": "code",
   "execution_count": 46,
   "metadata": {},
   "outputs": [
    {
     "name": "stdout",
     "output_type": "stream",
     "text": [
      "Complex\n",
      "Real\n"
     ]
    }
   ],
   "source": [
    "#to access elements in the array, just iter through\n",
    "for a in (subtypes(Number))\n",
    "    println(a)\n",
    "end\n",
    "#>Complex\n",
    "#>Real"
   ]
  },
  {
   "cell_type": "markdown",
   "metadata": {},
   "source": [
    "## Custom Types\n",
    "A key way of structing data in julia is to use custom type definitions"
   ]
  },
  {
   "cell_type": "code",
   "execution_count": 49,
   "metadata": {},
   "outputs": [
    {
     "name": "stdout",
     "output_type": "stream",
     "text": [
      "Person(\"Julia\", false, 4.0, 0)\n",
      "Person[Person(\"Julia\", false, 4.0, 0), Person(\"Jimmy\", true, 42.0, 0), Person(\"Gabi\", false, 17.0, 3)]\n"
     ]
    }
   ],
   "source": [
    "# Type Definitions are probably most similar to tyepdefs in c?\n",
    "# a simple type with no special constructor functions might look like this\n",
    "\n",
    "#initiate the type\n",
    "type Person\n",
    "    name::AbstractString\n",
    "    male::Bool\n",
    "    age::Float64\n",
    "    children::Int\n",
    "end\n",
    "\n",
    "#create new object of that type\n",
    "p = Person(\"Julia\", false, 4, 0)\n",
    "println(p)\n",
    "#> Person: Person(\"Julia\",false,4.0,0)\n",
    "\n",
    "#create list of Person(s)\n",
    "people = Person[]\n",
    "push!(people, p)\n",
    "push!(people, Person(\"Jimmy\", true, 42, 0))\n",
    "push!(people, Person(\"Gabi\", false, 17, 3))\n",
    "println(people)\n",
    "#> 2-element Array{Person,1}: [Person(\"Steve\",true,42.0,0),Person(\"Jade\",false,17.0,3)]"
   ]
  },
  {
   "cell_type": "markdown",
   "metadata": {},
   "source": [
    "Types may also contains arrays and dicts"
   ]
  },
  {
   "cell_type": "code",
   "execution_count": 24,
   "metadata": {},
   "outputs": [
    {
     "name": "stdout",
     "output_type": "stream",
     "text": [
      "Family(\"blogs\", AbstractString[], false)\n",
      "Family(\"jones\", AbstractString[\"anna\", \"bob\", \"charlie\", \"dick\"], true)\n"
     ]
    }
   ],
   "source": [
    "# constructor functions can be defined to easily create objects\n",
    "type Family\n",
    "    name::AbstractString\n",
    "    members::Array{AbstractString, 1}\n",
    "    extended::Bool\n",
    "    \n",
    "    # constructor that takes one argument and generates a default\n",
    "    # for the other two values\n",
    "    Family(name::AbstractString) = new(name, AbstractString[], false)\n",
    "    \n",
    "    # constructor that takes two arguements and infers the third\n",
    "    Family(name::AbstractString, members) = new(name, members, length(members) > 3)\n",
    "end\n",
    "\n",
    "#Missing arguments will instantiate empty fields\n",
    "fam1 = Family(\"Burgess\")\n",
    "println(fam1)\n",
    "#> Family(\"blogs\",AbstractString[],false)\n",
    "\n",
    "\n",
    "fam2 = Family(\"Freud\", [\"anna\", \"bob\", \"charlie\", \"dick\"])\n",
    "println(fam2)\n",
    "#> Family(\"jones\",AbstractString[\"anna\",\"bob\",\"charlie\",\"dick\"],true)"
   ]
  }
 ],
 "metadata": {
  "kernelspec": {
   "display_name": "Julia 0.6.0",
   "language": "julia",
   "name": "julia-0.6"
  },
  "language_info": {
   "file_extension": ".jl",
   "mimetype": "application/julia",
   "name": "julia",
   "version": "0.6.0"
  }
 },
 "nbformat": 4,
 "nbformat_minor": 2
}
